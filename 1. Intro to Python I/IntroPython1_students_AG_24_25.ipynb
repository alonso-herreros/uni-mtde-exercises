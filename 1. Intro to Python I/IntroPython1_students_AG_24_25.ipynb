{
  "cells": [
    {
      "cell_type": "markdown",
      "metadata": {
        "id": "ur6eynOKAXVi"
      },
      "source": [
        "# **Introduction to Python**\n",
        "## **Modern Theory of Detection and Estimation** (Fall 2024)\n",
        "### **Academic year 2024/2025**\n",
        "\n",
        "------------------------------------------------------\n",
        "The original version was prepared for *Master in Information Health Engineering* by:\n",
        "\n",
        "*Harold Molina Bulla (h.molina@tsc.uc3m.es)*,\n",
        "*Vanessa Gómez Verdejo (vanessa@tsc.uc3m.es)* and\n",
        "*Pablo M. Olmos (olmos@tsc.uc3m.es)*\n",
        "\n",
        "------------------------------------------------------\n",
        "    \n"
      ]
    },
    {
      "cell_type": "markdown",
      "metadata": {
        "id": "tZYMpGG1gXn-"
      },
      "source": [
        "#1.&nbsp;What is Python?\n",
        "From Wikipedia: \"Python is a widely used general-purpose, high-level programming language. Its design philosophy emphasizes code readability, and its syntax allows programmers to express concepts in fewer lines of code than would be possible in languages such as C++ or Java. The language provides constructs intended to enable clear programs on both a small and large scale.\"\n",
        "\n",
        "To easily work with Python on any computer, we can use [Google Colaboratory](https://colab.research.google.com/notebooks/welcome.ipynb), which provides a free envorinment to run Python Jupyter notebooks.  \n",
        "\n",
        "Throughout this tutorial, students will learn some basic features of the Python programming language, as well as the main characteristics of Python notebooks.\n"
      ]
    },
    {
      "cell_type": "markdown",
      "metadata": {
        "id": "KkCyidTNeWn2"
      },
      "source": [
        "#2.&nbsp;Work environment: Jupyter and Google Colab\n",
        "\n",
        "To start working with Python, we will use the **Jupyter work environment**, as it allows us to execute code easily and integrate code, text, figures, and more into the same document.\n",
        "\n",
        "A Jupyter notebook (or simply, notebook) is composed of a series of cells. For each cell, we specify whether it contains text (like the cell we are in now) or code. The Google Colab environment allows us to easily add new cells using the  $\\verb|+Code|$ and $\\verb|+Text|$ buttons, which are displayed on the toolbar at the top (left side) or when you move the cursor between cells.\n",
        "\n",
        "When we are in a cell, we can perform two actions:\n",
        "* **Edit**. We can enter a cell by selecting it and pressing Enter. This allows us to modify the content of the cell, similar to using a text editor.\n",
        "  * In a **text type cell**, Google Colab displays a preview on the right side, showing how the content will appear as we write. In addition, Jupyter uses a syntax known as Markdown, which allows us to define headers, format text, and more. It even enables the inclusion of equations inside cells using LaTeX syntax [LaTeX ] (http://www.latex-project.org/). For example, by typing `$ \\ sqrt {3x-1} + (1 + x) ^ 2 $`, we will see $\\sqrt {3x-1} + (1 + x)^2.$\n",
        "  * In a **code type cell**, we can write multiple lines of code and then execute them together, define functions, import libraries, etc.\n",
        "\n",
        "* **Execution**. This allows us to format the content of a text cell or execute the code contained in a code cell. To execute a cell, we can press $\\verb|Control|$ + $\\verb|Enter|$, or if we want to automatically move to the next cell after execution, we can press $\\verb|Shift|$ + $\\verb|Enter|$.\n",
        "\n",
        "To find out when a **code cell** has been executed, we can check the cell header:\n",
        "  * If only `[ ]` appears, it has not been executed yet.\n",
        "  * If we see `[*]`, the cell is in the process of execution.\n",
        "  * If a number appears in the brackets, the execution has finished.\n",
        "\n"
      ]
    },
    {
      "cell_type": "code",
      "execution_count": 94,
      "metadata": {
        "id": "5cYhN_uHJECi"
      },
      "outputs": [
        {
          "name": "stdout",
          "output_type": "stream",
          "text": [
            "Hello World!\n"
          ]
        }
      ],
      "source": [
        "print('Hello World!')"
      ]
    },
    {
      "cell_type": "markdown",
      "metadata": {
        "id": "201zqqRFUWcP"
      },
      "source": [
        "## 2.1 Integration with Google Drive\n",
        "\n",
        "One of the key features of Google Colab is its seamless integration with Google Drive, enabling you to share, comment and collaborate on the same document with multiple users:\n",
        "\n",
        "* The **Share** button (located at the top right of the toolbar) lets you share the notebook and manage its permission settings\n",
        "\n",
        "* The option **File -> Save a copy in Drive** saves the file to your Google Drive.\n",
        "\n",
        "* The option **File -> Save and pin revision** allows you to view changes made, see who made them, compare two revisions, and revert to a previous version if necessary. Since the revision history is not permanent by default, selecting this option is required to save a revision permanently\n",
        "\n",
        "* The option **File -> Revision history** displays the notebook's revision history.\n",
        "\n",
        "Additionally, if we plan to work collaboratively, we can add comments to the cells to facilitate teamwork. To do this, each cell provides an option in the upper right corner to add a comment, similar to how it works in Google Docs.\n"
      ]
    },
    {
      "cell_type": "markdown",
      "metadata": {
        "id": "L1ITyUb0RHB4"
      },
      "source": [
        "#3.&nbsp;Getting started with Python: Numbers"
      ]
    },
    {
      "cell_type": "markdown",
      "metadata": {
        "id": "w8cRvhxqDw7u"
      },
      "source": [
        "### 3.1 Basic operations"
      ]
    },
    {
      "cell_type": "markdown",
      "metadata": {
        "id": "ca97ZPyTDuZ0"
      },
      "source": [
        "To begin working with Python, we can use it to perform basic arithmetic operations, with a syntax that resembles that of a calculator. In other words, we input numbers, apply operations such as (`+`, `-`, `*`, `/`), and get a result. Below are a few examples in the following lines of code"
      ]
    },
    {
      "cell_type": "code",
      "execution_count": 95,
      "metadata": {
        "id": "0MTJ_G0KUNdP"
      },
      "outputs": [
        {
          "data": {
            "text/plain": [
              "4"
            ]
          },
          "execution_count": 95,
          "metadata": {},
          "output_type": "execute_result"
        }
      ],
      "source": [
        "2 + 2"
      ]
    },
    {
      "cell_type": "code",
      "execution_count": 96,
      "metadata": {
        "id": "_OrpJj3xUS8g"
      },
      "outputs": [
        {
          "data": {
            "text/plain": [
              "0"
            ]
          },
          "execution_count": 96,
          "metadata": {},
          "output_type": "execute_result"
        }
      ],
      "source": [
        "2-2"
      ]
    },
    {
      "cell_type": "code",
      "execution_count": 97,
      "metadata": {
        "id": "Xf9lalUhUXHm"
      },
      "outputs": [
        {
          "data": {
            "text/plain": [
              "4.0"
            ]
          },
          "execution_count": 97,
          "metadata": {},
          "output_type": "execute_result"
        }
      ],
      "source": [
        "2*10 / 5"
      ]
    },
    {
      "cell_type": "markdown",
      "metadata": {
        "id": "Kpv-c0PpUjFl"
      },
      "source": [
        "We can use parentheses to group operations and control the order of execution:\n",
        "\n"
      ]
    },
    {
      "cell_type": "code",
      "execution_count": 98,
      "metadata": {
        "id": "DzSJYVu--rBZ"
      },
      "outputs": [
        {
          "data": {
            "text/plain": [
              "11"
            ]
          },
          "execution_count": 98,
          "metadata": {},
          "output_type": "execute_result"
        }
      ],
      "source": [
        "3+4*2"
      ]
    },
    {
      "cell_type": "code",
      "execution_count": 99,
      "metadata": {
        "id": "tFG1mZP7Uf-p"
      },
      "outputs": [
        {
          "data": {
            "text/plain": [
              "14"
            ]
          },
          "execution_count": 99,
          "metadata": {},
          "output_type": "execute_result"
        }
      ],
      "source": [
        "(3+4)*2"
      ]
    },
    {
      "cell_type": "markdown",
      "metadata": {
        "id": "0iwXgJVRUppU"
      },
      "source": [
        "We can also use the equal sign (`=`) to assign the result of an operation to a variable, allowing us to store it for later use. For example:"
      ]
    },
    {
      "cell_type": "code",
      "execution_count": 100,
      "metadata": {
        "id": "bKlqHYn8N3_O"
      },
      "outputs": [],
      "source": [
        "width = 10\n",
        "length = 2 * 3\n",
        "area= width * length"
      ]
    },
    {
      "cell_type": "markdown",
      "metadata": {
        "id": "cyVMgA6VN6x3"
      },
      "source": [
        "**Variables** are containers used to store data values. Unlike many other programming languages, Python does not require a specific command to declare a variable; instead, a variable is created automatically when it is first assigned a value\n",
        "\n",
        "If we want to make our code more readable, we can add **comments** by placing the `#` symbol before the text of our comment. For example:"
      ]
    },
    {
      "cell_type": "code",
      "execution_count": 101,
      "metadata": {
        "id": "Nqe2KhgVF9ZX"
      },
      "outputs": [],
      "source": [
        "width = 10    # Assing the value 10 to variable width\n",
        "length = 2 * 3  # Multiply 2 and 3, then assign the result to the variable 'length'\n",
        "area= width * length  # The area is the product of width and length\n"
      ]
    },
    {
      "cell_type": "markdown",
      "metadata": {
        "id": "3IOx4fIoD-Ki"
      },
      "source": [
        "### 3.2 Print function"
      ]
    },
    {
      "cell_type": "markdown",
      "metadata": {
        "id": "u6NdgRV6UMGg"
      },
      "source": [
        "In these examples, no output has been displayed because the result of the operation is stored in a variable. However, we can use the `print()` function to display the calculated `area` on the screen, as shown below:"
      ]
    },
    {
      "cell_type": "code",
      "execution_count": 102,
      "metadata": {
        "id": "RDfQ_E6LGrWW"
      },
      "outputs": [
        {
          "name": "stdout",
          "output_type": "stream",
          "text": [
            "The area is: 60\n"
          ]
        }
      ],
      "source": [
        "print('The area is:', area)"
      ]
    },
    {
      "cell_type": "markdown",
      "metadata": {
        "id": "yzUJBbGdGuOT"
      },
      "source": [
        "When working in Python notebooks, if we simply type the variable name on the last line of a cell, its value will also be displayed. Compare the following two code cells:"
      ]
    },
    {
      "cell_type": "code",
      "execution_count": 103,
      "metadata": {
        "id": "8kuJWiyzGtlw"
      },
      "outputs": [
        {
          "data": {
            "text/plain": [
              "60"
            ]
          },
          "execution_count": 103,
          "metadata": {},
          "output_type": "execute_result"
        }
      ],
      "source": [
        "width\n",
        "length\n",
        "area"
      ]
    },
    {
      "cell_type": "code",
      "execution_count": 104,
      "metadata": {
        "id": "-2JTDxfOHFSb"
      },
      "outputs": [
        {
          "name": "stdout",
          "output_type": "stream",
          "text": [
            "10\n",
            "6\n"
          ]
        },
        {
          "data": {
            "text/plain": [
              "60"
            ]
          },
          "execution_count": 104,
          "metadata": {},
          "output_type": "execute_result"
        }
      ],
      "source": [
        "print(width)\n",
        "print(length)\n",
        "area"
      ]
    },
    {
      "cell_type": "markdown",
      "metadata": {
        "id": "86TgRP9-ECct"
      },
      "source": [
        "### 3.3 Type of data"
      ]
    },
    {
      "cell_type": "markdown",
      "metadata": {
        "id": "yc0I5jEbIUu4"
      },
      "source": [
        "An essential aspect of variables is their **data type**. When working with numerical variables, there are two main types we typically encounter:\n",
        "* Integer numbers (**int**): As the name suggests, this type is used for numeric variables without decimals. Examples include: $2$, $4$, $0$, $-1$.\n",
        "* Floating point numbers (**float**): This data type is used for numeric values with a decimal part. Examples include: $0.2$, $4.0$, $-2.2$.\n",
        "\n",
        "*Note: Python also supports other numeric types, such as Decimal and Fraction. Additionally, Python has built-in support for complex numbers, using the suffix `j` or `J` to represent the imaginary part (e.g. 3+5j).*\n",
        "\n",
        "To determine the data type of a variable, we can use the `type()` function. Consider the following examples:"
      ]
    },
    {
      "cell_type": "code",
      "execution_count": 105,
      "metadata": {
        "id": "4k8DoFLpLeNg"
      },
      "outputs": [
        {
          "data": {
            "text/plain": [
              "int"
            ]
          },
          "execution_count": 105,
          "metadata": {},
          "output_type": "execute_result"
        }
      ],
      "source": [
        "type(2)"
      ]
    },
    {
      "cell_type": "code",
      "execution_count": 106,
      "metadata": {
        "id": "pBoekDGoLhV2"
      },
      "outputs": [
        {
          "data": {
            "text/plain": [
              "float"
            ]
          },
          "execution_count": 106,
          "metadata": {},
          "output_type": "execute_result"
        }
      ],
      "source": [
        "type(2.0)"
      ]
    },
    {
      "cell_type": "code",
      "execution_count": 107,
      "metadata": {
        "id": "MORQEkMENHGB"
      },
      "outputs": [
        {
          "data": {
            "text/plain": [
              "int"
            ]
          },
          "execution_count": 107,
          "metadata": {},
          "output_type": "execute_result"
        }
      ],
      "source": [
        "type(width)"
      ]
    },
    {
      "cell_type": "markdown",
      "metadata": {
        "id": "MNYaZMC3Myqm"
      },
      "source": [
        "Adding a dot `.` to an integer value, as in `1.` or `1.0`, causes Python to interpret the number as a *float*. Additionally, when an operation involves a float, the result will always be a float."
      ]
    },
    {
      "cell_type": "code",
      "execution_count": 108,
      "metadata": {
        "id": "7RConoU0egcR"
      },
      "outputs": [
        {
          "name": "stdout",
          "output_type": "stream",
          "text": [
            "<class 'int'>\n",
            "<class 'float'>\n",
            "<class 'float'>\n"
          ]
        }
      ],
      "source": [
        "print(type(1))\n",
        "print(type(1.))\n",
        "print(type(1.0))"
      ]
    },
    {
      "cell_type": "code",
      "execution_count": 109,
      "metadata": {
        "id": "Euc54tykenTH"
      },
      "outputs": [
        {
          "name": "stdout",
          "output_type": "stream",
          "text": [
            "['The type of variable z is: ', <class 'float'>]\n"
          ]
        }
      ],
      "source": [
        "x = 1\n",
        "y = 2.5\n",
        "z = x*y\n",
        "print(['The type of variable z is: ', type(z)])"
      ]
    },
    {
      "cell_type": "markdown",
      "metadata": {
        "id": "MNdCcd94MCHJ"
      },
      "source": [
        "Now that we understand data types and the different types of numeric variables, let's move on to performing operations with Python."
      ]
    },
    {
      "cell_type": "code",
      "execution_count": 110,
      "metadata": {
        "id": "apGDRKR3NaSu"
      },
      "outputs": [],
      "source": [
        "# Divide 4 by 3\n",
        "result1 = 4/3\n",
        "\n",
        "# Divide 8 by 4\n",
        "result2 = 8/4"
      ]
    },
    {
      "cell_type": "markdown",
      "metadata": {
        "id": "LP1KG6U1O1BC"
      },
      "source": [
        "What type do you think the variable `result1` is? And what about `result2`?"
      ]
    },
    {
      "cell_type": "code",
      "execution_count": 111,
      "metadata": {
        "id": "BCVxKi9dPFFJ"
      },
      "outputs": [
        {
          "name": "stdout",
          "output_type": "stream",
          "text": [
            "Result1 is type:  <class 'float'>\n",
            "Result2 is type:  <class 'float'>\n"
          ]
        }
      ],
      "source": [
        "print('Result1 is type: ', type(result1))\n",
        "print('Result2 is type: ', type(result2))"
      ]
    },
    {
      "cell_type": "markdown",
      "metadata": {
        "id": "ovuYtLMoPnLQ"
      },
      "source": [
        "The `/` operator always returns a *float* type. To divide two numbers and obtain an integer result (discarding the decimal part), you can use the `//` operator, and to calculate the remainder of the division, you can use the `%` operator. For example:"
      ]
    },
    {
      "cell_type": "code",
      "execution_count": 112,
      "metadata": {
        "id": "DkZTQLfhQHmE"
      },
      "outputs": [
        {
          "name": "stdout",
          "output_type": "stream",
          "text": [
            "3.3333333333333335\n",
            "3\n",
            "1\n"
          ]
        }
      ],
      "source": [
        "print(10 / 3)  # Standard division (returns a float)\n",
        "print(10 // 3)  # Division excluding the decimal part\n",
        "print(10 % 3)   # Get the remainder of the division"
      ]
    },
    {
      "cell_type": "markdown",
      "metadata": {
        "id": "IHiywxNvQwue"
      },
      "source": [
        "Among the basic operators, Python also includes the power operator `**`."
      ]
    },
    {
      "cell_type": "code",
      "execution_count": 113,
      "metadata": {
        "id": "B3oIf3OHcNho"
      },
      "outputs": [
        {
          "name": "stdout",
          "output_type": "stream",
          "text": [
            "9\n",
            "1024\n"
          ]
        }
      ],
      "source": [
        "print(3 ** 2)  # 3 raised to 2 (3^2)\n",
        "print(2 ** 10)  # 2 raised to 10 (2^10)\n"
      ]
    },
    {
      "cell_type": "markdown",
      "metadata": {
        "id": "ZsV3fFXTG8y2"
      },
      "source": [
        "### 3.4 Here’s a summary of Python's basic operators\n",
        "| Operator      | Example\n",
        "| -----------| ----------- |\n",
        "|`+`: Addition|  `x + y` |\n",
        "| `-`:  Subtraction | \t`x - y` |\n",
        "| `*`:  Multiplication |\t`x * y`|\n",
        "| `/`:  Division |\t`x / y` |\n",
        "| `%`:\tRemainder |\t`x % y` |\n",
        "| `**`: **Exponentiation** |\t`x ** y` \t|\n",
        "| `//`: Floor division |\t`x // y`|"
      ]
    },
    {
      "cell_type": "markdown",
      "metadata": {
        "id": "FBghVrRhHKUr"
      },
      "source": [
        "### 3.5 Assignment operators for values\n",
        "\n",
        "Python offers several compound operators. For example:"
      ]
    },
    {
      "cell_type": "code",
      "execution_count": 114,
      "metadata": {
        "id": "RAgZnD_OlpjS"
      },
      "outputs": [
        {
          "data": {
            "text/plain": [
              "8"
            ]
          },
          "execution_count": 114,
          "metadata": {},
          "output_type": "execute_result"
        }
      ],
      "source": [
        "a = 3\n",
        "a += 5\n",
        "a"
      ]
    },
    {
      "cell_type": "markdown",
      "metadata": {
        "id": "FJAru_16lqQI"
      },
      "source": [
        "The `+=` symbol allows us to incrementally add a value to a variable. Note that this is equivalent to\n",
        "\n"
      ]
    },
    {
      "cell_type": "code",
      "execution_count": 115,
      "metadata": {
        "id": "pbvVYib3mF26"
      },
      "outputs": [
        {
          "data": {
            "text/plain": [
              "8"
            ]
          },
          "execution_count": 115,
          "metadata": {},
          "output_type": "execute_result"
        }
      ],
      "source": [
        "a = 3\n",
        "a = a + 5\n",
        "a"
      ]
    },
    {
      "cell_type": "markdown",
      "metadata": {
        "id": "aBerQY7NmGO3"
      },
      "source": [
        "We can do the same with many other operators. For example:\n",
        "\n",
        "\n",
        "| Operator      | Example | Same As  |\n",
        "| ----------- | ----------- |----------- |\n",
        "| +=      | x += 3 \t| x = x + 3 |\n",
        "|  -=  |\tx -= 3 |\tx = x - 3 \t|\n",
        "| *= \t|  x *= 3 |\tx = x * 3 \t|\n",
        "| /= \t|x /= 3 |\tx = x / 3 \t|\n",
        "| %= \t|x %= 3 |\tx = x % 3 \t|\n",
        "| //= |\tx //= 3 |\tx = x // 3 |\n",
        "| **= |\tx **= 3 \t| x = x ** 3 |\n"
      ]
    },
    {
      "cell_type": "markdown",
      "metadata": {
        "id": "OP0WSdQ6b1WS"
      },
      "source": [
        "For slightly more complex operations, several built-in mathematical functions are available. For example:\n",
        "\n",
        " * `math.sqrt(x)` returns the square root of a number.\n",
        " * `math.pow(x, y)` raises a real number to another. This is equivalent to: `x**y`.\n",
        " * `math.log(x)` calculates the natural logarithm of a number.\n",
        " * `math.exp(x)` calculates the exponential of a number.\n",
        " * `math.cos(x)` calculates the cosine of a certain angle (measured in radians).\n",
        "    \n",
        "There is also `math.sin()` for sine and `math.tan()` for tangent, as well as `math.acos()`, `math.asin()`, and `math.atan()` for the arccosine, arcsine, and arctangent, respectively.\n",
        "\n",
        "There is also some constants that can simplify our work! `math.pi` represents the number `pi` (3.14159265359) and `math.e` represents the number `e`, the base of natural logarithms.\n",
        "\n",
        "To use these functions, we need to start the program with `import math` (we will explore this in more detail later, but this line allows us to use functions from the math library.) For example, the following program calculates the square root of the number stored in the variable `n`."
      ]
    },
    {
      "cell_type": "code",
      "execution_count": 116,
      "metadata": {
        "id": "2UBUmU2xb-Ac"
      },
      "outputs": [
        {
          "name": "stdout",
          "output_type": "stream",
          "text": [
            "3.0\n"
          ]
        }
      ],
      "source": [
        "import math\n",
        "n = 9\n",
        "print (math.sqrt(n))"
      ]
    },
    {
      "cell_type": "markdown",
      "metadata": {
        "id": "HcK4t2JddJ5C"
      },
      "source": [
        "## 3.6 **Exercises**\n",
        "\n",
        "Now that we understand how to work with numbers in Python, let's move on to solving the following exercises."
      ]
    },
    {
      "cell_type": "markdown",
      "metadata": {
        "id": "V1frzE-1daJe"
      },
      "source": [
        "**Exercise 1**\n",
        "\n",
        "Define the following variables:\n",
        "* `net_price`: This will represent the net price of a product. Please initialize it to $750$.\n",
        "* `tax`: This will represent the VAT percentage applied to the product. Please initialize it to $21$.\n",
        "\n",
        "Now, using these two variables, **calculate the final price of the product**, store it in the variable `final_price`, and print the result.\"\n",
        "\n",
        "\n"
      ]
    },
    {
      "cell_type": "markdown",
      "metadata": {
        "id": "kfn9KPIYoIYu"
      },
      "source": [
        "**Solution**"
      ]
    },
    {
      "cell_type": "code",
      "execution_count": 117,
      "metadata": {
        "id": "KJv6hHDedZSn"
      },
      "outputs": [
        {
          "name": "stdout",
          "output_type": "stream",
          "text": [
            "157.5\n"
          ]
        }
      ],
      "source": [
        "net_price = 750\n",
        "tax = 21\n",
        "final_price = net_price*tax/100\n",
        "print(final_price)"
      ]
    },
    {
      "cell_type": "markdown",
      "metadata": {
        "id": "2HNGVkkeZdHy"
      },
      "source": [
        "**Exercise 2**\n",
        "\n",
        "2.1 Define a variable `x` and set its value to $5$.\n",
        "\n",
        "2.2 From the variable `x`, generate a new variable `y` using the following transformation:\n",
        "\n",
        "$ \\displaystyle y = \\frac{x}{2} * \\exp (x ^ 2) + 1 $\n",
        "\n",
        "Program the lines of code needed to calculate `y` from` x`. What value does `y` take when` x` is 5? What if `x` is 10?\n",
        "\n",
        "Write the lines of code needed to calculate `y` from `x`. What value does `y` take when `x` is $5$? What about when `x` is 10?"
      ]
    },
    {
      "cell_type": "markdown",
      "metadata": {
        "id": "O6MKb0M0oyNI"
      },
      "source": [
        "**Solution**"
      ]
    },
    {
      "cell_type": "code",
      "execution_count": 118,
      "metadata": {
        "id": "c8Ujm0_ZdZbH"
      },
      "outputs": [
        {
          "name": "stdout",
          "output_type": "stream",
          "text": [
            "(x=5) y=180012248344.46442\n",
            "(x=5) y=2.3591409142295223\n"
          ]
        }
      ],
      "source": [
        "x = 5\n",
        "def calc_y(x): return x/2 * math.e**(x**2) + 1\n",
        "print(f\"(x=5) y={calc_y(x)}\")\n",
        "print(f\"(x=5) y={calc_y(1)}\")"
      ]
    },
    {
      "cell_type": "markdown",
      "metadata": {
        "id": "aw3rfIbY-lY_"
      },
      "source": [
        "# 4.&nbsp;Booleans in Python\n",
        "\n",
        "Boolean data types represent one of two values:  True (`True`) or False (` False`). They are extremely useful in programming because it's often necessary to determine whether an expression is true or false. For instance, when comparing two values, the expression is evaluated, and Python returns the result as a boolean value:"
      ]
    },
    {
      "cell_type": "code",
      "execution_count": 119,
      "metadata": {
        "id": "ho_rI249_QXN"
      },
      "outputs": [
        {
          "name": "stdout",
          "output_type": "stream",
          "text": [
            "True\n",
            "False\n",
            "True\n",
            "False\n"
          ]
        }
      ],
      "source": [
        "print(10 > 9)\n",
        "print(10 == 9)\n",
        "print(10 != 9)\n",
        "print(10 < 9)"
      ]
    },
    {
      "cell_type": "code",
      "execution_count": 120,
      "metadata": {
        "id": "OW16fitwFocH"
      },
      "outputs": [
        {
          "name": "stdout",
          "output_type": "stream",
          "text": [
            "<class 'bool'>\n"
          ]
        }
      ],
      "source": [
        "print(type(10 > 9))"
      ]
    },
    {
      "cell_type": "markdown",
      "metadata": {
        "id": "8Ilg_ddpyaq5"
      },
      "source": [
        "## 4.1 Operators for comparison of values and identities\n",
        "\n"
      ]
    },
    {
      "cell_type": "markdown",
      "metadata": {
        "id": "Av0scf40HdCL"
      },
      "source": [
        "### 4.1.1 Comparsion operators\n",
        "\n",
        "These operators compare values and return a Boolean result (`True` or `False`).\n",
        "*   **Equal to** (`==`): Checks if two values are equal.\n",
        "\n",
        "    Example: `x == y`\n",
        "*   **Not equal to** (`!=`): Checks if two values are not equal.\n",
        "\n",
        "    Example: `x != y`\n",
        "*   **Greater than** (`>`): Checks if the left value is greater than the right.\n",
        "\n",
        "    Example: `x > y`\n",
        "*   **Less than** (`<`): Checks if the left value is less than the right.\n",
        "\n",
        "    Example: `x < y`\n",
        "*   **Greater than or equal to** (`>=`): Checks if the left value is greater than or equal to the right.\n",
        "\n",
        "    Example: `x >= y`\n",
        "*   **Less than or equal to** (`<=`): Checks if the left value is less than or equal to the right.\n",
        "\n",
        "    Example: `x <= y`\n",
        "\n"
      ]
    },
    {
      "cell_type": "markdown",
      "metadata": {
        "id": "ePhe1--Zyh8O"
      },
      "source": [
        "### 4.1.2 Identity Operators"
      ]
    },
    {
      "cell_type": "markdown",
      "metadata": {
        "id": "RG-ILkWiygld"
      },
      "source": [
        "\n",
        "*   **is** (`==`): Returns `True` if two variables refer to the same object in memory.\n",
        "\n",
        "    Example: `x is y`\n",
        "*   **is not** (`!=`): Returns `True` if two variables do not refer to the same object in memory\n",
        "\n",
        "    Example: `x is not y`\n",
        "\n",
        "These operators are fundamental in controlling logic flow and performing checks in Python programs."
      ]
    },
    {
      "cell_type": "markdown",
      "metadata": {
        "id": "qQrEU8z4HmVQ"
      },
      "source": [
        "### 4.1.3 Logical operators\n",
        "\n",
        "In Python, logical operators are used to combine conditional statements or expressions, returning a Boolean result (`True` or `False`). Here are the main logical operators:\n",
        "\n",
        "Logical Operators:\n",
        "\n",
        "\n",
        "1.   `and`: Returns `True` if both operands are `True`; otherwise, it returns `False`.\n",
        "\n",
        "  Example: `x > 5 and y < 10`\n",
        "\n",
        "  Explanation: If both conditions (`x > 5` and `y < 10`) are `True`, the entire expression will be `True`.\n",
        "\n",
        "\n",
        "2.   `or`: Returns `True` if at least one operand is `True`; otherwise, it returns `False`.\n",
        "\n",
        "  Example: `x > 5 or y < 10`\n",
        "\n",
        "  Explanation: If either `x > 5` or `y < 10` is `True`, the entire expression will be `True`.\n",
        "\n",
        "3.   `not`: Reverses the Boolean value of the operand. If the operand is `True`, it returns `False`, and vice versa.\n",
        "\n",
        "  Example: `not(x > 5)`\n",
        "\n",
        "  Explanation: If `x > 5` is `True`, the not operator will make the expression `False`.\n"
      ]
    },
    {
      "cell_type": "markdown",
      "metadata": {
        "id": "RNT_aHgxplin"
      },
      "source": [
        "**Exercise 3**\n",
        "\n",
        "Examine the following examples by changing the value of `x` and trying to predict the outcome of the various logical operations"
      ]
    },
    {
      "cell_type": "code",
      "execution_count": 121,
      "metadata": {
        "id": "UX1fyTYCdUJw"
      },
      "outputs": [
        {
          "name": "stdout",
          "output_type": "stream",
          "text": [
            "True\n",
            "True\n"
          ]
        }
      ],
      "source": [
        "x = 4\n",
        "print((x<5) and (x>2))\n",
        "print((x<5) & (x>2))"
      ]
    },
    {
      "cell_type": "code",
      "execution_count": 122,
      "metadata": {
        "id": "B57qmNjPds-1"
      },
      "outputs": [
        {
          "name": "stdout",
          "output_type": "stream",
          "text": [
            "True\n",
            "True\n"
          ]
        }
      ],
      "source": [
        "x = 6\n",
        "print((x<5) or (x>2))\n",
        "print((x<5) | (x>2))"
      ]
    },
    {
      "cell_type": "code",
      "execution_count": 123,
      "metadata": {
        "id": "VRi2yZDzd2Oc"
      },
      "outputs": [
        {
          "name": "stdout",
          "output_type": "stream",
          "text": [
            "False\n"
          ]
        }
      ],
      "source": [
        "x = 7\n",
        "print((x<5) and (x>2) or (x>10))"
      ]
    },
    {
      "cell_type": "markdown",
      "metadata": {
        "id": "oeSF56lGPdB-"
      },
      "source": [
        "# 5.&nbsp;Working with text strings\n",
        "\n",
        "The basic data type for representing text in Python is the *string*. A string is typically defined by assigning a text value to a variable, enclosed in single (`'`) or double (`\"`) quotation marks. Alternatively, other data types (such as numeric values) can be converted to strings using the `str()` function.\n",
        "\n"
      ]
    },
    {
      "cell_type": "code",
      "execution_count": 124,
      "metadata": {
        "id": "7iKGUx0oDEeM"
      },
      "outputs": [
        {
          "name": "stdout",
          "output_type": "stream",
          "text": [
            "This is a string\n",
            "t2 too!\n"
          ]
        }
      ],
      "source": [
        "# Define string variables\n",
        "t1='This is a string'\n",
        "print(t1)\n",
        "t2 =\"t2 too!\"\n",
        "print(t2)"
      ]
    },
    {
      "cell_type": "code",
      "execution_count": 125,
      "metadata": {
        "id": "jknu1MMmDupn"
      },
      "outputs": [
        {
          "name": "stdout",
          "output_type": "stream",
          "text": [
            "500\n",
            "<class 'int'>\n",
            "500\n",
            "<class 'str'>\n"
          ]
        }
      ],
      "source": [
        "# Convert a number to string\n",
        "n = 500\n",
        "print(n)\n",
        "print(type(n))\n",
        "n_string = str(n)\n",
        "print(n_string)\n",
        "print(type(n_string))"
      ]
    },
    {
      "cell_type": "markdown",
      "metadata": {
        "id": "vbemSFuiEPEM"
      },
      "source": [
        "## 5.1 Methods of the string object\n",
        "\n",
        "Python is widely regarded as an excellent choice for working with text files of any type or size, due to its string objects, which offer a wide range of built-in methods that simplify text manipulation\n",
        "\n",
        "\n",
        "\n",
        "\n",
        "\n",
        "\n"
      ]
    },
    {
      "cell_type": "markdown",
      "metadata": {
        "id": "xXvikszCgjSM"
      },
      "source": [
        "\n",
        "\n",
        "We will explore **Python objects** later, including how to define and create our own objects with customized methods and attributes. For now, we will focus on using Python's predefined objects (such as string objects) and accessing their methods and attributes,\n",
        "\n",
        "So far, we need to understand the following:\n",
        "\n",
        "* To use the methods of an object `my_object`, always follow the syntax `my_object.method()`.\n",
        "\n",
        "* If we want to see the available methods for an object in Google Colab, we can simply type `my_object` and pause for a moment. Google Colab will then display a list of all the methods available for that object.\n",
        "\n",
        "* All methods of the string object return a new value as output, leaving the original string unchanged."
      ]
    },
    {
      "cell_type": "markdown",
      "metadata": {
        "id": "Lf1-xK6TK5qg"
      },
      "source": [
        "Some of these methods are:\n",
        "\n",
        "* `.capitalize()`: Converts the first letter of the string to uppercase.\n",
        "\n"
      ]
    },
    {
      "cell_type": "code",
      "execution_count": 126,
      "metadata": {
        "id": "i1ck8TBeFC7b"
      },
      "outputs": [
        {
          "data": {
            "text/plain": [
              "'This is a string'"
            ]
          },
          "execution_count": 126,
          "metadata": {},
          "output_type": "execute_result"
        }
      ],
      "source": [
        "t1.capitalize()"
      ]
    },
    {
      "cell_type": "markdown",
      "metadata": {
        "id": "IcQXrge_1ctB"
      },
      "source": [
        "* `.lower()`: Converts all characters in the string to lowercase.\n",
        "* `.upper()`: Converts all characters in the string to uppercase."
      ]
    },
    {
      "cell_type": "code",
      "execution_count": 127,
      "metadata": {
        "id": "lJkL8-kS1xsg"
      },
      "outputs": [
        {
          "name": "stdout",
          "output_type": "stream",
          "text": [
            "THIS IS A STRING\n",
            "this is a string\n"
          ]
        }
      ],
      "source": [
        "t_upper = t1.upper()\n",
        "print(t_upper)\n",
        "t_lower = t_upper.lower()\n",
        "print(t_lower)"
      ]
    },
    {
      "cell_type": "markdown",
      "metadata": {
        "id": "QhJrXJxn7ome"
      },
      "source": [
        "Please note that if you print `'t1'`, it has not been modified!"
      ]
    },
    {
      "cell_type": "code",
      "execution_count": 128,
      "metadata": {
        "id": "LF_7-zvh7uxA"
      },
      "outputs": [
        {
          "name": "stdout",
          "output_type": "stream",
          "text": [
            "This is a string\n"
          ]
        }
      ],
      "source": [
        "print(t1)"
      ]
    },
    {
      "cell_type": "markdown",
      "metadata": {
        "id": "BVZNdSifK2uy"
      },
      "source": [
        "* `.replace('s1', 's2')`: Replaces the characters `'s1'` in a string with the character`'s2'`.\n",
        "\n",
        "* `.replace('s1', 's2')`: Replaces occurrences of the substring `'s1'` in a string with the substring `'s2'`.\n",
        "\n",
        "\n",
        "\n"
      ]
    },
    {
      "cell_type": "code",
      "execution_count": 129,
      "metadata": {
        "id": "lzlk206NLb8K"
      },
      "outputs": [
        {
          "data": {
            "text/plain": [
              "'This,is,a,string'"
            ]
          },
          "execution_count": 129,
          "metadata": {},
          "output_type": "execute_result"
        }
      ],
      "source": [
        "t1.replace(' ', ',')"
      ]
    },
    {
      "cell_type": "code",
      "execution_count": 130,
      "metadata": {
        "id": "GmN8uGLhMa8I"
      },
      "outputs": [
        {
          "data": {
            "text/plain": [
              "'Thuus uus a struung'"
            ]
          },
          "execution_count": 130,
          "metadata": {},
          "output_type": "execute_result"
        }
      ],
      "source": [
        "t1.replace('i', 'uu')"
      ]
    },
    {
      "cell_type": "markdown",
      "metadata": {
        "id": "72FSomYBiKJK"
      },
      "source": [
        "Based on the result displayed on the screen, do you think the string `'t1'` has been modified? Give it a try!"
      ]
    },
    {
      "cell_type": "code",
      "execution_count": 131,
      "metadata": {
        "id": "OqNCjIFLiGQD"
      },
      "outputs": [
        {
          "name": "stdout",
          "output_type": "stream",
          "text": [
            "This is a string\n"
          ]
        }
      ],
      "source": [
        "print(t1)"
      ]
    },
    {
      "cell_type": "markdown",
      "metadata": {
        "id": "T95ut-GiGF8J"
      },
      "source": [
        "* .`find ('s') `: Searches for the substring `'s'` within the string and returns the position of its first occurrence. If it is not found, it returns `-1`."
      ]
    },
    {
      "cell_type": "code",
      "execution_count": 132,
      "metadata": {
        "id": "ue9BHdTkz8OJ"
      },
      "outputs": [
        {
          "data": {
            "text/plain": [
              "10"
            ]
          },
          "execution_count": 132,
          "metadata": {},
          "output_type": "execute_result"
        }
      ],
      "source": [
        "t1.find('string')"
      ]
    },
    {
      "cell_type": "code",
      "execution_count": 133,
      "metadata": {
        "id": "vz1AwT0Az8Rv"
      },
      "outputs": [
        {
          "data": {
            "text/plain": [
              "-1"
            ]
          },
          "execution_count": 133,
          "metadata": {},
          "output_type": "execute_result"
        }
      ],
      "source": [
        "t1.find('word')"
      ]
    },
    {
      "cell_type": "markdown",
      "metadata": {
        "id": "twmsmpS9L-WL"
      },
      "source": [
        "* `.split('s')`: Splits the string into multiple substrings, using the character 's' as the separator."
      ]
    },
    {
      "cell_type": "code",
      "execution_count": 134,
      "metadata": {
        "id": "_uGBxLlp26gE"
      },
      "outputs": [
        {
          "name": "stdout",
          "output_type": "stream",
          "text": [
            "This is a string\n"
          ]
        }
      ],
      "source": [
        "print(t1)"
      ]
    },
    {
      "cell_type": "code",
      "execution_count": 135,
      "metadata": {
        "id": "AUHku0QXFS6z"
      },
      "outputs": [
        {
          "name": "stdout",
          "output_type": "stream",
          "text": [
            "['Th', 's ', 's a str', 'ng']\n",
            "['This', 'is', 'a', 'string']\n",
            "['This', 'is', 'a', 'string']\n"
          ]
        }
      ],
      "source": [
        "# Split by the character 'i'\n",
        "print(t1.split('i'))\n",
        "# Split by the character ' ' (blank space)\n",
        "print(t1.split(' '))\n",
        "\n",
        "# If a splitter character is not provided, by default, the blank space is used\n",
        "print(t1.split())  #It is equivalent to: t1.split(' ')\n"
      ]
    },
    {
      "cell_type": "markdown",
      "metadata": {
        "id": "lMN8b1sqk-kZ"
      },
      "source": [
        "Please note that when applying the `.split()` method, the separator character 's' is removed from the resulting substrings. Additionally, the method returns a list where each element is a string. We will explore what lists are in Python and how to work with them later on.\n",
        "\n",
        "\n"
      ]
    },
    {
      "cell_type": "markdown",
      "metadata": {
        "id": "rHJPubH10X9Z"
      },
      "source": [
        "You can find a list of all available methods for string objects at [this link](https://www.w3schools.com/python/python_ref_string.asp)"
      ]
    },
    {
      "cell_type": "markdown",
      "metadata": {
        "id": "1Rcb9J2xNLqr"
      },
      "source": [
        "### 5.1.1 Length of a string\n",
        "To get the length of a string, use the `len()` function.\n",
        "\n",
        "$\\underline{\\text{Note}}$: `len()` is a Python function shared with other data types, so **it is not** unique to strings. For this reason, it is not a method of string objects, and its syntax is `string.len()`, not `len(string)`."
      ]
    },
    {
      "cell_type": "code",
      "execution_count": 136,
      "metadata": {
        "id": "qQrY54E4NUTZ"
      },
      "outputs": [
        {
          "data": {
            "text/plain": [
              "15"
            ]
          },
          "execution_count": 136,
          "metadata": {},
          "output_type": "execute_result"
        }
      ],
      "source": [
        "mystring = \"Hello everyone!\"\n",
        "len(mystring)"
      ]
    },
    {
      "cell_type": "markdown",
      "metadata": {
        "id": "mVrq0-4b2IMl"
      },
      "source": [
        "### 5.1.2 Check if a string is present or not\n",
        "\n",
        "You can use the keywords `in` or `not in` to check whether a certain phrase or character is present within a string. These keywords are logical operators, so they return a Boolean value (`True` or `False`)."
      ]
    },
    {
      "cell_type": "code",
      "execution_count": 137,
      "metadata": {
        "id": "0mCGPEug4Wpz"
      },
      "outputs": [
        {
          "data": {
            "text/plain": [
              "True"
            ]
          },
          "execution_count": 137,
          "metadata": {},
          "output_type": "execute_result"
        }
      ],
      "source": [
        "\"everyone\" in mystring"
      ]
    },
    {
      "cell_type": "code",
      "execution_count": 138,
      "metadata": {
        "id": "KDaF2loj4fLf"
      },
      "outputs": [
        {
          "data": {
            "text/plain": [
              "False"
            ]
          },
          "execution_count": 138,
          "metadata": {},
          "output_type": "execute_result"
        }
      ],
      "source": [
        "\"everyone\" not in mystring"
      ]
    },
    {
      "cell_type": "code",
      "execution_count": 139,
      "metadata": {
        "id": "uC1bUQg44h-P"
      },
      "outputs": [
        {
          "data": {
            "text/plain": [
              "False"
            ]
          },
          "execution_count": 139,
          "metadata": {},
          "output_type": "execute_result"
        }
      ],
      "source": [
        "\"everybody\" in mystring"
      ]
    },
    {
      "cell_type": "markdown",
      "metadata": {
        "id": "XaRyG9CXMpu_"
      },
      "source": [
        "## 5.2 String indexing\n",
        "\n",
        "Strings are like arrays of characters, where each character is simply a string with a length of $1$. Therefore, the elements of a string can be accessed in various ways:\n",
        "\n",
        "* We can retrieve a single character by using square brackets and specifying the character's position. For example, `my_string[position]` will return the character located at position within the string `my_string`.\n",
        "\n",
        "* To extract a substring, we can specify the start and end positions using (`[start:end]`). The resulting string will begin at the character at the start position (inclusive) and will end at the character at the end position (exclusive)\n",
        "\n",
        "Additionally, strings can be indexed backwards using negative indices. If the starting position is omitted, it defaults to the first character, and if the ending position is omitted, it defaults to the last character\n",
        "\n",
        "**Important**: Python starts indexing at $0$, meaning the first element is at position $0$!!\n"
      ]
    },
    {
      "cell_type": "markdown",
      "metadata": {
        "id": "pZIjDB4_oH2O"
      },
      "source": [
        "### Exercise\n",
        "Analyze the following code and try to predict its output before running it."
      ]
    },
    {
      "cell_type": "code",
      "execution_count": 140,
      "metadata": {
        "id": "JAfvORHbn_-t"
      },
      "outputs": [],
      "source": [
        "mystring = \"Hello everyone!\""
      ]
    },
    {
      "cell_type": "code",
      "execution_count": 141,
      "metadata": {
        "id": "kHXkc5elPo60"
      },
      "outputs": [
        {
          "data": {
            "text/plain": [
              "'H'"
            ]
          },
          "execution_count": 141,
          "metadata": {},
          "output_type": "execute_result"
        }
      ],
      "source": [
        "mystring[0]"
      ]
    },
    {
      "cell_type": "code",
      "execution_count": 142,
      "metadata": {
        "id": "N8zpGw3MP0j-"
      },
      "outputs": [
        {
          "data": {
            "text/plain": [
              "'ello'"
            ]
          },
          "execution_count": 142,
          "metadata": {},
          "output_type": "execute_result"
        }
      ],
      "source": [
        "mystring[1:5]"
      ]
    },
    {
      "cell_type": "code",
      "execution_count": 143,
      "metadata": {
        "id": "klg55LHFQYHW"
      },
      "outputs": [
        {
          "data": {
            "text/plain": [
              "'Hello'"
            ]
          },
          "execution_count": 143,
          "metadata": {},
          "output_type": "execute_result"
        }
      ],
      "source": [
        "mystring[:5]"
      ]
    },
    {
      "cell_type": "code",
      "execution_count": 144,
      "metadata": {
        "id": "fD0kms_KytyP"
      },
      "outputs": [
        {
          "data": {
            "text/plain": [
              "'eryone!'"
            ]
          },
          "execution_count": 144,
          "metadata": {},
          "output_type": "execute_result"
        }
      ],
      "source": [
        "mystring[8:]"
      ]
    },
    {
      "cell_type": "code",
      "execution_count": 145,
      "metadata": {
        "id": "XMj2JZCSQsQJ"
      },
      "outputs": [
        {
          "data": {
            "text/plain": [
              "'!'"
            ]
          },
          "execution_count": 145,
          "metadata": {},
          "output_type": "execute_result"
        }
      ],
      "source": [
        "mystring[-1]"
      ]
    },
    {
      "cell_type": "code",
      "execution_count": 146,
      "metadata": {
        "id": "kQMRxf39yuD7"
      },
      "outputs": [
        {
          "data": {
            "text/plain": [
              "'ryone!'"
            ]
          },
          "execution_count": 146,
          "metadata": {},
          "output_type": "execute_result"
        }
      ],
      "source": [
        "mystring[-6:]"
      ]
    },
    {
      "cell_type": "markdown",
      "metadata": {
        "id": "V179hLutPoM_"
      },
      "source": [
        "## 5.3 String concatenation\n",
        "\n",
        "Two or more strings can be concatenated or combined using the `+` symbol."
      ]
    },
    {
      "cell_type": "code",
      "execution_count": 147,
      "metadata": {
        "id": "QR8X9n4GGBfC"
      },
      "outputs": [
        {
          "data": {
            "text/plain": [
              "'Helloeveryone'"
            ]
          },
          "execution_count": 147,
          "metadata": {},
          "output_type": "execute_result"
        }
      ],
      "source": [
        "t1=\"Hello\"\n",
        "t2=\"everyone\"\n",
        "t1+t2"
      ]
    },
    {
      "cell_type": "code",
      "execution_count": 148,
      "metadata": {
        "id": "gSK8fobw5r11"
      },
      "outputs": [
        {
          "data": {
            "text/plain": [
              "'Hello everyone'"
            ]
          },
          "execution_count": 148,
          "metadata": {},
          "output_type": "execute_result"
        }
      ],
      "source": [
        "t1+\" \"+t2"
      ]
    },
    {
      "cell_type": "code",
      "execution_count": 149,
      "metadata": {
        "id": "gh5huBNz5vZE"
      },
      "outputs": [
        {
          "data": {
            "text/plain": [
              "'Hello everyone!'"
            ]
          },
          "execution_count": 149,
          "metadata": {},
          "output_type": "execute_result"
        }
      ],
      "source": [
        "t1 +\" \" + t2 + \"!\""
      ]
    },
    {
      "cell_type": "markdown",
      "metadata": {
        "id": "LuwiPp596EIn"
      },
      "source": [
        "Can we combine text and numbers? Let's find out!"
      ]
    },
    {
      "cell_type": "code",
      "execution_count": 150,
      "metadata": {
        "id": "axCEBcGC51-M"
      },
      "outputs": [
        {
          "data": {
            "text/plain": [
              "'The result is: 7'"
            ]
          },
          "execution_count": 150,
          "metadata": {},
          "output_type": "execute_result"
        }
      ],
      "source": [
        "result = 5 + 2\n",
        "\"The result is: \" + str(result)"
      ]
    },
    {
      "cell_type": "markdown",
      "metadata": {
        "id": "sc_96LTJ6bxN"
      },
      "source": [
        "As we can see, this results in an error! This happens because only strings can be concatenated with other strings. To combine text with a number, we need to convert the result variable to a string using the `str()` function.\n",
        "\n",
        "$\\underline{\\text{Note}}$: Notice how Google Colab formats the error output, clearly indicating the exact line where the failure occurs and the type of error, `TypeError: can only concatenate str (not \"int\") to str`. It also provides a link to search for this error on Stack Overflow, where you can find potential solutions.\n",
        "\n"
      ]
    },
    {
      "cell_type": "code",
      "execution_count": 151,
      "metadata": {
        "id": "lMCBhhz96aI6"
      },
      "outputs": [
        {
          "data": {
            "text/plain": [
              "'The result is: 7'"
            ]
          },
          "execution_count": 151,
          "metadata": {},
          "output_type": "execute_result"
        }
      ],
      "source": [
        "result = 5 + 2\n",
        "\"The result is: \" + str(result)"
      ]
    },
    {
      "cell_type": "markdown",
      "metadata": {
        "id": "Lpurv25S8SzV"
      },
      "source": [
        "**The Escape Character**\n",
        "\n",
        "To insert characters that are not allowed directly in a string, use an escape character. An escape character is a backslash (`\\`) followed by the character you wish to insert.\n",
        "\n",
        "An example of an illegal character is a double quote inside a string that is already enclosed in double quotes:"
      ]
    },
    {
      "cell_type": "code",
      "execution_count": 152,
      "metadata": {
        "id": "J2txnFsl8aEJ"
      },
      "outputs": [
        {
          "ename": "SyntaxError",
          "evalue": "invalid syntax (7934146.py, line 1)",
          "output_type": "error",
          "traceback": [
            "\u001b[0;36m  Cell \u001b[0;32mIn[152], line 1\u001b[0;36m\u001b[0m\n\u001b[0;31m    txt = \"We are the so-called \"Vikings\" from the north.\"\u001b[0m\n\u001b[0m                                 ^\u001b[0m\n\u001b[0;31mSyntaxError\u001b[0m\u001b[0;31m:\u001b[0m invalid syntax\n"
          ]
        }
      ],
      "source": [
        "txt = \"We are the so-called \"Vikings\" from the north.\""
      ]
    },
    {
      "cell_type": "code",
      "execution_count": null,
      "metadata": {
        "id": "nV7bvJzD8axv"
      },
      "outputs": [],
      "source": [
        "txt = \"We are the so-called \\\"Vikings\\\" from the north.\"\n",
        "print(txt)"
      ]
    },
    {
      "cell_type": "markdown",
      "metadata": {
        "id": "mcWDw33R8hNF"
      },
      "source": [
        "Some common illegal characters  that can be escaped using the backslash (`\\`) are:\n",
        "* `\\'`: Single quote\n",
        "* `\\\"`: Double quote.\n",
        "* `\\\\`: \tBackslash.\n",
        "* `\\n`: \tNew line.\n",
        "* `\\r`: \tCarriage return.\n",
        "* `\\t`: \tTab.\n",
        "* `\\b`: \tBackspace.\n",
        "* `\\f`: \tForm feed."
      ]
    },
    {
      "cell_type": "markdown",
      "metadata": {
        "id": "NJR3HO2C8vY2"
      },
      "source": [
        "**Exercise:** Complete the following exercises:"
      ]
    },
    {
      "cell_type": "markdown",
      "metadata": {
        "id": "m2THmFrRUDDm"
      },
      "source": [
        "str1 -> \"Hola\" is how we say \"hello\" in Spanish.\n",
        "\n",
        "str2 -> That's all!"
      ]
    },
    {
      "cell_type": "code",
      "execution_count": 73,
      "metadata": {},
      "outputs": [],
      "source": [
        "str1 = '\"Hola\" is how we say \"hello\" in Spanish'\n",
        "str2 = \"That's all!\""
      ]
    },
    {
      "cell_type": "markdown",
      "metadata": {
        "id": "UxasIpZQxK5Z"
      },
      "source": [
        "* Print the string `str1` and check its type."
      ]
    },
    {
      "cell_type": "code",
      "execution_count": 70,
      "metadata": {
        "id": "N29iTpc79kvN"
      },
      "outputs": [
        {
          "name": "stdout",
          "output_type": "stream",
          "text": [
            "\"Hola\" is how we say \"hello\" in Spanish\n",
            "<class 'str'>\n"
          ]
        }
      ],
      "source": [
        "print(str1)\n",
        "print(type(str1))"
      ]
    },
    {
      "cell_type": "markdown",
      "metadata": {
        "id": "z9M_952GxR_I"
      },
      "source": [
        "* Print the first 5 characters of `str1`."
      ]
    },
    {
      "cell_type": "code",
      "execution_count": 71,
      "metadata": {
        "id": "CLkNJEDD9myb"
      },
      "outputs": [
        {
          "name": "stdout",
          "output_type": "stream",
          "text": [
            "\"Hol\n"
          ]
        }
      ],
      "source": [
        "print(str1[0:4])"
      ]
    },
    {
      "cell_type": "markdown",
      "metadata": {
        "id": "wLXX98L0xcOz"
      },
      "source": [
        "* Join `str1` and `str2`, adding a dot separator between the two strings."
      ]
    },
    {
      "cell_type": "code",
      "execution_count": 75,
      "metadata": {
        "id": "sc59-kuc9qOc"
      },
      "outputs": [
        {
          "name": "stdout",
          "output_type": "stream",
          "text": [
            "\"Hola\" is how we say \"hello\" in Spanish. That's all!\n"
          ]
        }
      ],
      "source": [
        "print(\". \".join([str1, str2]))"
      ]
    },
    {
      "cell_type": "markdown",
      "metadata": {
        "id": "-AkaKI4-xhtL"
      },
      "source": [
        "* Convert `str1` to lowercase and print it!"
      ]
    },
    {
      "cell_type": "code",
      "execution_count": 76,
      "metadata": {
        "id": "muarOO559sPk"
      },
      "outputs": [
        {
          "name": "stdout",
          "output_type": "stream",
          "text": [
            "\"hola\" is how we say \"hello\" in spanish\n"
          ]
        }
      ],
      "source": [
        "print(str1.lower())"
      ]
    },
    {
      "cell_type": "markdown",
      "metadata": {
        "id": "sqK7tGQAxp2O"
      },
      "source": [
        "* Convert `str1` to uppercase letters."
      ]
    },
    {
      "cell_type": "code",
      "execution_count": 78,
      "metadata": {
        "id": "NAPrANnl9snE"
      },
      "outputs": [
        {
          "name": "stdout",
          "output_type": "stream",
          "text": [
            "\"HOLA\" IS HOW WE SAY \"HELLO\" IN SPANISH\n"
          ]
        }
      ],
      "source": [
        "print(str1.upper())"
      ]
    },
    {
      "cell_type": "markdown",
      "metadata": {
        "id": "sxfemyHqx1jr"
      },
      "source": [
        "* Get the length of `str1` by counting the number of characters."
      ]
    },
    {
      "cell_type": "code",
      "execution_count": 82,
      "metadata": {
        "id": "6HuLmXQG9w18"
      },
      "outputs": [
        {
          "name": "stdout",
          "output_type": "stream",
          "text": [
            "39\n"
          ]
        }
      ],
      "source": [
        "print(len(str1))"
      ]
    },
    {
      "cell_type": "markdown",
      "metadata": {
        "id": "C16xjFrlx5qu"
      },
      "source": [
        "* Replace the character `h` in `str1` with the character `H`."
      ]
    },
    {
      "cell_type": "code",
      "execution_count": 83,
      "metadata": {
        "id": "pw7lGyLq9ze9"
      },
      "outputs": [
        {
          "name": "stdout",
          "output_type": "stream",
          "text": [
            "\"Hola\" is How we say \"Hello\" in SpanisH\n"
          ]
        }
      ],
      "source": [
        "print(str1.replace(\"h\", \"H\"))"
      ]
    },
    {
      "cell_type": "markdown",
      "metadata": {
        "id": "0XQtQJYSrfav"
      },
      "source": [
        "## 5.4 Logical conditions in Python: If ... Else\n",
        "As previously mentioned, Python supports the usual logical conditions in mathematics, which allow us to answer questions like:\n",
        "* Are `a` and `b` the same ?: `a == b`\n",
        "* Are `a` and `b` not the same ?: `a! = b`\n",
        "* Is `a` less than `b` ?: `a < b`\n",
        "* Is `a` less than or equal to` b` ?: `a <= b`\n",
        "* Is `a` greater than `b` ?: `a > b`\n",
        "* Is `a` greater than or equal to `b` ?: `a > = b`\n",
        "\n",
        "   "
      ]
    },
    {
      "cell_type": "markdown",
      "metadata": {
        "id": "WjhK-WRQrfgN"
      },
      "source": [
        "These logical conditions can be combined with the `if... else...` keywords to execute different operations based on the result of the condition. For instance, we can define two variables, `a` and `b`, and display a message on the screen when the condition `a > b` is satisfied.\n"
      ]
    },
    {
      "cell_type": "code",
      "execution_count": null,
      "metadata": {
        "id": "k8VIal3sthc-"
      },
      "outputs": [],
      "source": [
        "a = 33\n",
        "b = 10\n",
        "if a > b:\n",
        "  print(\"a is greater than b\")"
      ]
    },
    {
      "cell_type": "markdown",
      "metadata": {
        "id": "_9t4fet2tqdG"
      },
      "source": [
        "When this code is executed, Python evaluates the condition (`a > b`). If the result is `True`, the nested code (`print(...)`) is executed; otherwise, it is not.\n",
        "\n",
        "Upon analyzing this example, we observe that the `if` statement follows a specific syntax: the first line starts with the keyword `if`, followed by the condition to be evaluated (a logical expression), and ends with a colon (`:`).\n",
        "\n",
        "After this first line, the block of code to be executed if the condition is true follows. Note that this code block must be indented (either a tab or $2$ to $4$ spaces at the beginning of the line), as Python uses indentation to identify the lines that belong to the same block of instructions (unlike other programming languages that use curly braces). To end the block of code inside the condition, simply remove the indentation and continue writing from the start of the line.\n",
        "\n",
        "To better understand this concept, let's compare the outputs of the following code cells:"
      ]
    },
    {
      "cell_type": "code",
      "execution_count": null,
      "metadata": {
        "id": "un1riuYpthZ2"
      },
      "outputs": [],
      "source": [
        "a = 3\n",
        "b = 10\n",
        "if a > b:\n",
        "  print(\"a is greater than b\")\n",
        "print(\"I am out of the conditonal if\")"
      ]
    },
    {
      "cell_type": "markdown",
      "metadata": {
        "id": "BdA6UH9kww6o"
      },
      "source": [
        "If no indented lines follow the `if` statement, Python will return an error:"
      ]
    },
    {
      "cell_type": "code",
      "execution_count": null,
      "metadata": {
        "id": "iR2apAenwG-S"
      },
      "outputs": [],
      "source": [
        "a = 3\n",
        "b = 10\n",
        "if a > b:\n",
        "print(\"a is greater than b\")\n",
        "print(\"I am out of the conditional if\")"
      ]
    },
    {
      "cell_type": "markdown",
      "metadata": {
        "id": "gpIixGOxxBnh"
      },
      "source": [
        "However, we can always use the `pass` keyword if we want to define a condition but not execute any code when it is satisfied."
      ]
    },
    {
      "cell_type": "code",
      "execution_count": null,
      "metadata": {
        "id": "64N_DMOrxL79"
      },
      "outputs": [],
      "source": [
        "a = 3\n",
        "b = 10\n",
        "if a > b:\n",
        "  pass\n",
        "print(\"a is greater than b\")\n",
        "print(\"I am out of the conditional if\")"
      ]
    },
    {
      "cell_type": "markdown",
      "metadata": {
        "id": "d5VGHkanxVM_"
      },
      "source": [
        "You can combine the `if` statement with the `else` keyword (using `if...else...`), to execute one block of code when the condition is met and another when it is not.\n"
      ]
    },
    {
      "cell_type": "code",
      "execution_count": null,
      "metadata": {
        "id": "6pcjHfXaxUe-"
      },
      "outputs": [],
      "source": [
        "a = 3\n",
        "b = 10\n",
        "if a > b:\n",
        "  print(\"a is greater than b\")\n",
        "else:\n",
        "  print(\"a is not greater than b\")\n"
      ]
    },
    {
      "cell_type": "markdown",
      "metadata": {
        "id": "ZXJuoacBybyV"
      },
      "source": [
        "What is the difference between the previous code and this one?"
      ]
    },
    {
      "cell_type": "code",
      "execution_count": null,
      "metadata": {
        "id": "Wzme5FpFybJq"
      },
      "outputs": [],
      "source": [
        "a = 3\n",
        "b = 10\n",
        "if a > b:\n",
        "  print(\"a is greater b\")\n",
        "if a < b:\n",
        "  print(\"a is less b\")"
      ]
    },
    {
      "cell_type": "markdown",
      "metadata": {
        "id": "F6ElTYghym5G"
      },
      "source": [
        "There are indeed several differences:\n",
        "\n",
        "* By using two separate `if` blocks, we are forcing Python to evaluate both conditions independently. In contrast, an `if...else...` block only evaluates one condition. While the difference might not be noticeable in a simple program, in programs that run multiple comparisons, the impact on performance can become significant.\n",
        "* Using `else` saves us from having to write an additional condition. Moreover, writing conditions can lead to mistakes, while using `else` avoids this risk.\n",
        "* Using `if...else...` ensures that one of the two blocks of instructions will be executed. However, when using two separate if statements, it is possible that neither condition is met, resulting in neither block being executed."
      ]
    },
    {
      "cell_type": "markdown",
      "metadata": {
        "id": "kkk0QymhzTe-"
      },
      "source": [
        "Finally, we can also combine `if...else...` with `elif` (using `if...elif...else...`), when we need to evaluate multiple alternatives. In this case, the syntax would be:\n",
        "\n",
        "\n"
      ]
    },
    {
      "cell_type": "code",
      "execution_count": null,
      "metadata": {
        "id": "xAcykXxQz0pP"
      },
      "outputs": [],
      "source": [
        "a = 3\n",
        "b = 10\n",
        "if a > b:\n",
        "  print(\"a is greater than b\")\n",
        "elif a < b:\n",
        "  print(\"a is less than b\")\n",
        "else:\n",
        "  print(\"a is equal to b\")"
      ]
    },
    {
      "cell_type": "markdown",
      "metadata": {
        "id": "ctrEUjsT3VPl"
      },
      "source": [
        "In fact, you can include as many `elif` blocks as needed. The `else` block, which is optional, is only executed if none of the previous conditions are met."
      ]
    },
    {
      "cell_type": "code",
      "execution_count": null,
      "metadata": {
        "id": "PV3O9GuW3lES"
      },
      "outputs": [],
      "source": [
        "a = 10\n",
        "if a < 5:\n",
        "  print(\"a is less than 5\")\n",
        "elif a < 7:\n",
        "  print(\"a is less than 7\")\n",
        "elif a < 9:\n",
        "  print(\"a is less than 9\")\n",
        "elif a < 11:\n",
        "  print(\"a is less than 11\")\n",
        "else:\n",
        "  print(\"a does not meet any of the above conditions\")"
      ]
    },
    {
      "cell_type": "markdown",
      "metadata": {
        "id": "0lyH42a536wu"
      },
      "source": [
        "# 6.&nbsp;Loops in Python\n",
        "\n",
        "Python allows us to repeat the execution of a section of code iteratively using two types of loops:\n",
        "\n",
        "* `while`: Repeats code execution as long as a specified condition is true.\n",
        "* `for`: Executes a block of code a predefined number of times by default.\n",
        "\n",
        "Next, we will explore in detail how each of these structures works.\n"
      ]
    },
    {
      "cell_type": "markdown",
      "metadata": {
        "id": "mjCzcALn362U"
      },
      "source": [
        "### 6.1 While loop\n",
        "\n",
        "As previously mentioned, this type of loop repeatedly executes a series of instructions as long as a specific condition is met.\n",
        "\n",
        "We can illustrate its syntax with the following example:\n",
        "\n"
      ]
    },
    {
      "cell_type": "code",
      "execution_count": null,
      "metadata": {
        "id": "nD6QQhL78EZX"
      },
      "outputs": [],
      "source": [
        "a=0\n",
        "while a<10:\n",
        "  print(a)\n",
        "  a += 1\n",
        "print('We are out of the loop')"
      ]
    },
    {
      "cell_type": "markdown",
      "metadata": {
        "id": "0F8N2HX28OdV"
      },
      "source": [
        "The `while` loop evaluates the condition at each iteration, and as long as the condition is true, it executes the code inside the loop. Note that the syntax is very similar to that of if statements: to declare the loop, we write the keyword `while` followed by the condition and end the line with a colon (`:`). All lines of code to be executed within the loop must be indented.\n",
        "\n",
        "Note that, as the loop is currently defined, if we do not modify the value of the variable `a` within the loop, it will run indefinitely and never terminate.\n",
        "\n"
      ]
    },
    {
      "cell_type": "markdown",
      "metadata": {
        "id": "sVvv__HN_Dh4"
      },
      "source": [
        "We can also combine the `while` loop with the `else` keyword to execute a specific block of code when the condition is no longer true."
      ]
    },
    {
      "cell_type": "code",
      "execution_count": null,
      "metadata": {
        "id": "VsyBwc80A0cg"
      },
      "outputs": [],
      "source": [
        "a=0\n",
        "while a<10:\n",
        "  print(a)\n",
        "  a += 1\n",
        "else:\n",
        "  print('a is not less than 10')\n",
        "print('We are out of the loop')"
      ]
    },
    {
      "cell_type": "markdown",
      "metadata": {
        "id": "vI2T64G1_Doh"
      },
      "source": [
        "We can use the `break` and `continue` keywords within the `while` loop to enforce certain behaviors:\n",
        "* The `break` keyword forces the loop to terminate, even if the condition is still true.\n",
        "* The `continue` keyword allows us to skip the current iteration and proceed to the next one.\n",
        "\n",
        "Let's explore the following examples\n",
        "\n"
      ]
    },
    {
      "cell_type": "code",
      "execution_count": null,
      "metadata": {
        "id": "YzVkZB_1_u0t"
      },
      "outputs": [],
      "source": [
        "a=0\n",
        "while a<10:\n",
        "  print(a)\n",
        "  a += 1\n",
        "  if a==3:\n",
        "    print('Forced exit from the loop')\n",
        "    break\n",
        "print('We are out of the loop')"
      ]
    },
    {
      "cell_type": "code",
      "execution_count": null,
      "metadata": {
        "id": "crbmJs4RANvX"
      },
      "outputs": [],
      "source": [
        "a=0\n",
        "while a<5:\n",
        "  print(a)\n",
        "  a += 1\n",
        "  if a==3:\n",
        "    continue\n",
        "  print('rest of commands')\n",
        "print('We are out of the loop')"
      ]
    },
    {
      "cell_type": "markdown",
      "metadata": {
        "id": "r_rg6CRa8NSV"
      },
      "source": [
        "### 6.2 For loop\n",
        "\n",
        "As mentioned previously, `for` loops define the number of iterations by default. This is because they are designed to iterate over a sequence of elements, such as the characters in a string. Let's look at an example:"
      ]
    },
    {
      "cell_type": "code",
      "execution_count": null,
      "metadata": {
        "id": "pXDvgNCAz4Z3"
      },
      "outputs": [],
      "source": [
        "myString='This is my string'\n",
        "for s in myString:\n",
        "  print(s)"
      ]
    },
    {
      "cell_type": "markdown",
      "metadata": {
        "id": "Gpwd6VusDvjf"
      },
      "source": [
        "Upon analyzing the syntax, we notice that it differs slightly from the `while` loop. It begins with the keyword `for`, followed by a variable (in this case, the variable `s`) that takes on a value from the sequence in each iteration. The `in` keyword is then used along with the sequence to iterate over, followed by a colon (`:`). The subsequent indented lines represent the block of code that is executed during each iteration."
      ]
    },
    {
      "cell_type": "markdown",
      "metadata": {
        "id": "FCrcV_GSFJyX"
      },
      "source": [
        "If we want to keep track of the number of iterations, we can use the `enumerate()` function on the sequence of elements. This function returns both the value of the element and an integer representing its position or the current iteration number. For example:\n"
      ]
    },
    {
      "cell_type": "code",
      "execution_count": null,
      "metadata": {
        "id": "zbTLMxeSz4XE"
      },
      "outputs": [],
      "source": [
        "myString='This is my string'\n",
        "for i,s in enumerate(myString):\n",
        "  print('Iteration: ' +str(i) + ' Value: '+ s)"
      ]
    },
    {
      "cell_type": "markdown",
      "metadata": {
        "id": "pvfHXeT5GHO_"
      },
      "source": [
        "It is very common to combine the `for` loop with the `range()` function, as this function returns a sequence of numbers that we can iterate over. The syntax is as follows:\n",
        "\n",
        "`range(start_value, end_value, step)`.\n",
        "\n",
        "This generates a sequence of values between `start_value` and `end_value` (excluding the latter), with increments defined by `step`. For example:"
      ]
    },
    {
      "cell_type": "code",
      "execution_count": null,
      "metadata": {
        "id": "P76zg0onHjcD"
      },
      "outputs": [],
      "source": [
        "sequence = range(2,10,3)\n",
        "for i in sequence:\n",
        "  print(i)"
      ]
    },
    {
      "cell_type": "markdown",
      "metadata": {
        "id": "JOQnn_GHHZQv"
      },
      "source": [
        "If we do not specify the `step`, it defaults to $1$, and if we omit the `start_value`, it defaults to $0$."
      ]
    },
    {
      "cell_type": "code",
      "execution_count": null,
      "metadata": {
        "id": "lxp2HaSZIAdB"
      },
      "outputs": [],
      "source": [
        "sequence = range(2,10)\n",
        "for i in sequence:\n",
        "  print(i)"
      ]
    },
    {
      "cell_type": "code",
      "execution_count": null,
      "metadata": {
        "id": "HKAfTXTIIAiH"
      },
      "outputs": [],
      "source": [
        "secuence = range(10)\n",
        "for i in secuence:\n",
        "  print(i)"
      ]
    },
    {
      "cell_type": "markdown",
      "metadata": {
        "id": "V9_nFwZvNPRv"
      },
      "source": [
        "We can also combine the `for` loop with the following keywords:\n",
        "\n",
        "* `else` to execute a block of code after the loop completes all iterations.\n",
        "* `break` to exit the loop early, even if not all elements of the sequence have been processed.\n",
        "* `pass` to do nothing within the loop, effectively serving as a placeholder.\n"
      ]
    },
    {
      "cell_type": "code",
      "execution_count": null,
      "metadata": {
        "id": "3MIuM33MPXBy"
      },
      "outputs": [],
      "source": [
        "sequence = range(10)\n",
        "for i in sequence:\n",
        "  print(i)\n",
        "else:\n",
        "  print('We are finished')"
      ]
    },
    {
      "cell_type": "code",
      "execution_count": null,
      "metadata": {
        "id": "6YtubFeUPXFg"
      },
      "outputs": [],
      "source": [
        "sequence = range(10)\n",
        "for i in sequence:\n",
        "  print(i)\n",
        "  if i==4:\n",
        "    break\n",
        "else:\n",
        "  print('we are finished')"
      ]
    },
    {
      "cell_type": "code",
      "execution_count": null,
      "metadata": {
        "id": "Y2EmMsxVPXJn"
      },
      "outputs": [],
      "source": [
        "sequence = range(10)\n",
        "for i in sequence:\n",
        "  pass\n",
        "else:\n",
        "  print('We are finished')"
      ]
    },
    {
      "cell_type": "markdown",
      "metadata": {
        "id": "zcn28ZhzPqm_"
      },
      "source": [
        "It is quite common to use nested loops, where one loop is defined inside another. For example:\n"
      ]
    },
    {
      "cell_type": "code",
      "execution_count": null,
      "metadata": {
        "id": "8MHqsHuIPW-5"
      },
      "outputs": [],
      "source": [
        "sequence = range(4)\n",
        "for i in sequence:\n",
        "  for j in sequence:\n",
        "    print(str(i)+ ' ' + str(j))"
      ]
    },
    {
      "cell_type": "markdown",
      "metadata": {
        "id": "OqiaiXQ3ILSh"
      },
      "source": [
        "# 7.&nbsp;Data collections in Python\n",
        "\n",
        "There are four types of collections in Python that allow us to group data:\n",
        "\n",
        "* **List**: An ordered, mutable collection that allows duplicate members.\n",
        "\n",
        "* **Tuple**: An ordered, immutable collection that also allows duplicates.\n",
        "* **Set**: An unordered, unindexed collection that does not allow duplicate members.\n",
        "* **Dictionary**: An unordered, mutable and indexed collection where keys must be unique.\n",
        "\n",
        "When selecting a collection type, it's important to understand the characteristics of each. Choosing the correct type for a particular dataset can preserve meaning and improve efficiency or security.\n",
        "\n",
        "\n"
      ]
    },
    {
      "cell_type": "markdown",
      "metadata": {
        "id": "uvBkjwAGLJI1"
      },
      "source": [
        "## 7.1 Lists in Python\n",
        "\n",
        "As mentioned, a **list** is an ordered collection of elements that can be modified and allows duplicate items. As we progress with our Python knowledge, we'll see that lists are one of the most commonly used data types in programming. Consequently, there are numerous operations that can be performed on lists. Below are some examples of the most common ones.\n",
        "\n",
        "\n"
      ]
    },
    {
      "cell_type": "markdown",
      "metadata": {
        "id": "5xlvuvNj7Sci"
      },
      "source": [
        "### 7.1.1 Create a list\n",
        "\n",
        "In Python, lists are written using square brackets. To create a list, you simply enclose a series of elements, separated by commas, within the brackets:\n",
        "\n"
      ]
    },
    {
      "cell_type": "code",
      "execution_count": null,
      "metadata": {
        "id": "r73b2--fLOdU"
      },
      "outputs": [],
      "source": [
        "myList = [\"apple\", \"banana\", \"pear\", \"orange\", \"lemon\", \"cherry\", \"kiwi\", \"melon\", \"mango\"]\n",
        "print(myList)"
      ]
    },
    {
      "cell_type": "markdown",
      "metadata": {
        "id": "t-SJBOnd7sVr"
      },
      "source": [
        "We can define an empty list by not including any elements inside the brackets."
      ]
    },
    {
      "cell_type": "code",
      "execution_count": null,
      "metadata": {
        "id": "PKrSVCvW7Rzj"
      },
      "outputs": [],
      "source": [
        "myEmpty_List = []\n",
        "print(myEmpty_List)"
      ]
    },
    {
      "cell_type": "markdown",
      "metadata": {
        "id": "rVXnWE7VY7w-"
      },
      "source": [
        "Or, we can also create a list with the `list()` constructor."
      ]
    },
    {
      "cell_type": "code",
      "execution_count": null,
      "metadata": {
        "id": "CCwXI_EYZAeD"
      },
      "outputs": [],
      "source": [
        "myList2 =list([ \"lemon\", \"cherry\", \"kiwi\", \"mango\"])\n",
        "print(myList2)"
      ]
    },
    {
      "cell_type": "markdown",
      "metadata": {
        "id": "k1JuRM37LQso"
      },
      "source": [
        "### 7.1.2 Element indexing\n",
        "\n",
        "We can access list elements by indexing them, much like accessing characters in a string. Review the following examples and try to predict the output before running them!\n",
        "\n"
      ]
    },
    {
      "cell_type": "code",
      "execution_count": null,
      "metadata": {
        "id": "Y3-q1iM7LQ8F"
      },
      "outputs": [],
      "source": [
        "print(myList[1])"
      ]
    },
    {
      "cell_type": "code",
      "execution_count": null,
      "metadata": {
        "id": "n2-bDIFrLbyE"
      },
      "outputs": [],
      "source": [
        "print(myList[3:5])"
      ]
    },
    {
      "cell_type": "code",
      "execution_count": null,
      "metadata": {
        "id": "BqsfyRH0Ldmt"
      },
      "outputs": [],
      "source": [
        "print(myList[:4])"
      ]
    },
    {
      "cell_type": "code",
      "execution_count": null,
      "metadata": {
        "id": "Ot8hJyNWLgUe"
      },
      "outputs": [],
      "source": [
        "print(myList[5:])"
      ]
    },
    {
      "cell_type": "code",
      "execution_count": null,
      "metadata": {
        "id": "HVlxCAIRLhxe"
      },
      "outputs": [],
      "source": [
        "print(myList[-1])"
      ]
    },
    {
      "cell_type": "code",
      "execution_count": null,
      "metadata": {
        "id": "MqbqkSqmyJ34"
      },
      "outputs": [],
      "source": [
        "print(myList[-5:-1])"
      ]
    },
    {
      "cell_type": "markdown",
      "metadata": {
        "id": "PQAON6rDLtEB"
      },
      "source": [
        "### 7.1.3 Check for the presence of an element\n",
        "\n",
        "We can use the `in` keyword to verify if an item is present in a list:"
      ]
    },
    {
      "cell_type": "code",
      "execution_count": null,
      "metadata": {
        "id": "6T_b_qR1Lz53"
      },
      "outputs": [],
      "source": [
        "\"melon\" in myList"
      ]
    },
    {
      "cell_type": "code",
      "execution_count": null,
      "metadata": {
        "id": "cFzyaGOf6GBy"
      },
      "outputs": [],
      "source": [
        "\"banana\" in myList"
      ]
    },
    {
      "cell_type": "markdown",
      "metadata": {
        "id": "xAIcpmf6L2zP"
      },
      "source": [
        "### 7.1.4 Calculate the length of a list\n",
        "We can use the `len()` function to determine the number of elements in a list:\n"
      ]
    },
    {
      "cell_type": "code",
      "execution_count": null,
      "metadata": {
        "id": "Pko2SVnxL3ZK"
      },
      "outputs": [],
      "source": [
        "print(len(myList))"
      ]
    },
    {
      "cell_type": "markdown",
      "metadata": {
        "id": "UxtWV-UsYC1R"
      },
      "source": [
        "### 7.1.5 Concatenate lists\n",
        "\n",
        "We can use the `+` operator to create a new list by concatenating the elements of two lists:\n",
        "\n"
      ]
    },
    {
      "cell_type": "code",
      "execution_count": null,
      "metadata": {
        "id": "64kOeSktYLAM"
      },
      "outputs": [],
      "source": [
        "myUnionList = myList + myList2\n",
        "print(myUnionList)"
      ]
    },
    {
      "cell_type": "markdown",
      "metadata": {
        "id": "oOTwSZLBLnu9"
      },
      "source": [
        "### 7.1.6 Modifying list items\n",
        "\n",
        "We can modify the value of an element in the list by directly accessing its position:"
      ]
    },
    {
      "cell_type": "code",
      "execution_count": null,
      "metadata": {
        "id": "0FyAxTD3Lqcj"
      },
      "outputs": [],
      "source": [
        "myList[1] = \"blackberry\"\n",
        "print(myList)"
      ]
    },
    {
      "cell_type": "markdown",
      "metadata": {
        "id": "QBGK0QPP5mVo"
      },
      "source": [
        "And include a repeating element in the list:"
      ]
    },
    {
      "cell_type": "code",
      "execution_count": null,
      "metadata": {
        "id": "I6hT7fH75rqD"
      },
      "outputs": [],
      "source": [
        "myList[1] = \"apple\"\n",
        "print(myList)"
      ]
    },
    {
      "cell_type": "markdown",
      "metadata": {
        "id": "BDcZz1NXLtJj"
      },
      "source": [
        "We can add elements to the end of a list using the `append()` method:"
      ]
    },
    {
      "cell_type": "code",
      "execution_count": null,
      "metadata": {
        "id": "ouz82w2-L8o7"
      },
      "outputs": [],
      "source": [
        "myList.append(\"strawberry\")\n",
        "print(myList)"
      ]
    },
    {
      "cell_type": "markdown",
      "metadata": {
        "id": "0kwp8kYuLtOj"
      },
      "source": [
        "Alternatively, use the `insert()` method to add an element at a specific position:"
      ]
    },
    {
      "cell_type": "code",
      "execution_count": null,
      "metadata": {
        "id": "28a_UiPTMAYG"
      },
      "outputs": [],
      "source": [
        "myList.insert(1, \"banana\")\n",
        "print(myList)"
      ]
    },
    {
      "cell_type": "markdown",
      "metadata": {
        "id": "_lqVJ170LtSv"
      },
      "source": [
        "To **remove items** from the list, we have several options:\n",
        "\n",
        "* The `remove()` method removes the specified element.\n"
      ]
    },
    {
      "cell_type": "code",
      "execution_count": null,
      "metadata": {
        "id": "SUsiYnhvMKDu"
      },
      "outputs": [],
      "source": [
        "myList.remove(\"pear\")\n",
        "print(myList)"
      ]
    },
    {
      "cell_type": "markdown",
      "metadata": {
        "id": "o4HFGKB-9wAI"
      },
      "source": [
        "If an element appears multiple times, `remove()` only deletes its first occurrence."
      ]
    },
    {
      "cell_type": "code",
      "execution_count": null,
      "metadata": {
        "id": "VDeQiUN19sDV"
      },
      "outputs": [],
      "source": [
        "myList.remove(\"apple\")\n",
        "print(myList)"
      ]
    },
    {
      "cell_type": "markdown",
      "metadata": {
        "id": "JVJ0qQo9-VMQ"
      },
      "source": [
        "* The `pop()` method removes the element at the specified index or position. If no index is provided, it removes the last element by default.\n",
        "\n"
      ]
    },
    {
      "cell_type": "code",
      "execution_count": null,
      "metadata": {
        "id": "amcuVKIkML7C"
      },
      "outputs": [],
      "source": [
        "myList.pop(4)\n",
        "print(myList)"
      ]
    },
    {
      "cell_type": "code",
      "execution_count": null,
      "metadata": {
        "id": "4f9RkKCb-Hvw"
      },
      "outputs": [],
      "source": [
        "myList.pop()\n",
        "print(myList)"
      ]
    },
    {
      "cell_type": "markdown",
      "metadata": {
        "id": "yIEKNfhe-XZI"
      },
      "source": [
        "* The `del` keyword allows us to remove an element by its index, or even delete the entire list if no specific element is indicated.\n",
        "\n"
      ]
    },
    {
      "cell_type": "code",
      "execution_count": null,
      "metadata": {
        "id": "zBtghV1EMQWJ"
      },
      "outputs": [],
      "source": [
        "del myList[0]\n",
        "print(myList)"
      ]
    },
    {
      "cell_type": "code",
      "execution_count": null,
      "metadata": {
        "id": "lO9pdHPVMQY1"
      },
      "outputs": [],
      "source": [
        "myList2 = ['lemon', 'cherry', 'kiwi']\n",
        "print(myList2)\n",
        "del myList2\n",
        "print(myList2) #It produces an error because there is no list named myList2"
      ]
    },
    {
      "cell_type": "markdown",
      "metadata": {
        "id": "ls0p6FIs-vGE"
      },
      "source": [
        "* The `clear()` method allows us to completely empty the list."
      ]
    },
    {
      "cell_type": "code",
      "execution_count": null,
      "metadata": {
        "id": "Y4E9kZeFMQb9"
      },
      "outputs": [],
      "source": [
        "myList2 = ['lemon', 'cherry', 'kiwi']\n",
        "print(myList2)\n",
        "myList2.clear()\n",
        "print(myList2)"
      ]
    },
    {
      "cell_type": "markdown",
      "metadata": {
        "id": "ltw_wP3eT51p"
      },
      "source": [
        "## 7.2 Tuples in Python\n",
        "\n",
        "A **tuple** is an ordered collection of elements that allows duplicates, but unlike lists, it is immutable\n",
        "\n",
        "\n"
      ]
    },
    {
      "cell_type": "markdown",
      "metadata": {
        "id": "CJo62N-lT51q"
      },
      "source": [
        "### 7.2.1 Create a tuple\n",
        "\n",
        "To define a tuple in Python, we use parentheses and place the elements that make up the tuple inside them."
      ]
    },
    {
      "cell_type": "code",
      "execution_count": null,
      "metadata": {
        "id": "DlVur31xT51q"
      },
      "outputs": [],
      "source": [
        "myTuple = (\"apple\", \"banana\", \"pear\", \"orange\")\n",
        "print(myTuple)"
      ]
    },
    {
      "cell_type": "markdown",
      "metadata": {
        "id": "E8VhYcFDYYQO"
      },
      "source": [
        "You can also create a tuple using the `tuple()` constructor."
      ]
    },
    {
      "cell_type": "code",
      "execution_count": null,
      "metadata": {
        "id": "P96jpaBtYjic"
      },
      "outputs": [],
      "source": [
        "myTuple2 = tuple((\"melon\", \"banana\", \"cherry\")) # Be careful with the doble parenthesis!\n",
        "print(myTuple2)"
      ]
    },
    {
      "cell_type": "markdown",
      "metadata": {
        "id": "BvTzIiyGT51w"
      },
      "source": [
        "### 7.2.2 Element indexing\n",
        "\n",
        "Just like with lists, we can access tuple elements by indexing their positions. Let's review the following examples to see how it works:"
      ]
    },
    {
      "cell_type": "code",
      "execution_count": null,
      "metadata": {
        "id": "C7LSZ7xRT51w"
      },
      "outputs": [],
      "source": [
        "print(myTuple[2])"
      ]
    },
    {
      "cell_type": "code",
      "execution_count": null,
      "metadata": {
        "id": "muZ8eBaVT51z"
      },
      "outputs": [],
      "source": [
        "print(myTuple[-1:1])"
      ]
    },
    {
      "cell_type": "code",
      "execution_count": null,
      "metadata": {
        "id": "vN9O-5vNVscs"
      },
      "outputs": [],
      "source": [
        "print(myTuple[-1:4])"
      ]
    },
    {
      "cell_type": "code",
      "execution_count": null,
      "metadata": {
        "id": "1_65j-sOT511"
      },
      "outputs": [],
      "source": [
        "print(myTuple[:-2])"
      ]
    },
    {
      "cell_type": "code",
      "execution_count": null,
      "metadata": {
        "id": "3Kae3gDaT513"
      },
      "outputs": [],
      "source": [
        "print(myTuple[-2:])"
      ]
    },
    {
      "cell_type": "markdown",
      "metadata": {
        "id": "lFPdmUTVT519"
      },
      "source": [
        "### 7.2.3 Check for the presence of an element\n",
        "\n",
        "We can also use the `in` keyword to check if an element exists within the tuple:\n"
      ]
    },
    {
      "cell_type": "code",
      "execution_count": null,
      "metadata": {
        "id": "wM4dJ9zsT519"
      },
      "outputs": [],
      "source": [
        "\"melon\" in myTuple"
      ]
    },
    {
      "cell_type": "code",
      "execution_count": null,
      "metadata": {
        "id": "uUJdbG0CT51-"
      },
      "outputs": [],
      "source": [
        "\"banana\" in myTuple"
      ]
    },
    {
      "cell_type": "markdown",
      "metadata": {
        "id": "Rg2uschXT52A"
      },
      "source": [
        "### 7.2.4 Calculate the length of a tuple\n",
        "We can also use the `len()` function to determine the number of elements in the tuple:"
      ]
    },
    {
      "cell_type": "code",
      "execution_count": null,
      "metadata": {
        "id": "QV5P_mnvT52B"
      },
      "outputs": [],
      "source": [
        "print(len(myTuple))"
      ]
    },
    {
      "cell_type": "markdown",
      "metadata": {
        "id": "R5dE6gtYXtek"
      },
      "source": [
        "### 7.2.5 Concatenate tuples\n",
        "You can use the `+` operator to concatenate two tuples and create a new one\n",
        "\n",
        "\n"
      ]
    },
    {
      "cell_type": "code",
      "execution_count": null,
      "metadata": {
        "id": "44iPfw9QX24X"
      },
      "outputs": [],
      "source": [
        "tuple_union = myTuple + myTuple2\n",
        "print(tuple_union)"
      ]
    },
    {
      "cell_type": "markdown",
      "metadata": {
        "id": "4eVpKoJaT52D"
      },
      "source": [
        "### 7.2.6 Modifying the elements of the tuple\n",
        "\n",
        "As previously mentioned, **tuples are immutable**. This basically means that once a tuple is created, its values cannot be changed, new elements cannot be added, nor can elements be removed. However, there is an alternative solution.\n",
        "\n",
        "You can convert the tuple into a list using the `list()` function, make the necessary changes, and then convert it back into a tuple using the `tuple()` function.\n",
        "\n",
        "Let's put this into practice:\n"
      ]
    },
    {
      "cell_type": "code",
      "execution_count": null,
      "metadata": {
        "id": "ep8V7EwZT52E"
      },
      "outputs": [],
      "source": [
        "# Convert to list\n",
        "myList = list(myTuple)\n",
        "\n",
        "# Modify the lista\n",
        "myList[1] = \"blackberry\"\n",
        "print(myList)\n",
        "print(type(myList))\n",
        "\n",
        "# Convert the list back to tuple\n",
        "myTuple2 = tuple(myList)\n",
        "print(myTuple2)\n",
        "print(type(myTuple2))"
      ]
    },
    {
      "cell_type": "markdown",
      "metadata": {
        "id": "tCMFZz83Zfat"
      },
      "source": [
        "### 7.2.7 Tuple object methods\n",
        "\n",
        "Tuples have two predefined methods:\n",
        "\n",
        "* `count()`: Returns the number of times an element appears in a tuple.\n",
        "* `index()`: Searches the tuple for a specific element and returns the position where it is first found. If the element is repeated, it returns the position of its first occurrence.\n",
        "\n"
      ]
    },
    {
      "cell_type": "code",
      "execution_count": null,
      "metadata": {
        "id": "JD7KIq_7aD1_"
      },
      "outputs": [],
      "source": [
        "tuple_union.count('melon')"
      ]
    },
    {
      "cell_type": "code",
      "execution_count": null,
      "metadata": {
        "id": "7dqTWM5HaD5h"
      },
      "outputs": [],
      "source": [
        "tuple_union.count('banana')"
      ]
    },
    {
      "cell_type": "code",
      "execution_count": null,
      "metadata": {
        "id": "7MlZpg2BbsrM"
      },
      "outputs": [],
      "source": [
        "tuple_union.index('banana')"
      ]
    },
    {
      "cell_type": "markdown",
      "metadata": {
        "id": "_Uvn3V8rRY8w"
      },
      "source": [
        "**Exercises with tuples**"
      ]
    },
    {
      "cell_type": "markdown",
      "metadata": {
        "id": "t5_7vwWlF-cf"
      },
      "source": [
        "1.   Create a tuple of tuples:\n",
        "((\"apple\",1),(\"banana\",1),(\"apple\",2),(\"melon\",1),(\"pineapple\",2),(\"banana\",2)),\n",
        "where the first element is a fruit, and the second is the number of fruits.\n",
        "2.   Calculate the number of apples, bananas and melons you have (use `for` loop to read each one of the elements, compare with the different fruits and increase the counter associated to each one)."
      ]
    },
    {
      "cell_type": "code",
      "execution_count": 88,
      "metadata": {
        "id": "mMbzh9KHMQhV"
      },
      "outputs": [
        {
          "name": "stdout",
          "output_type": "stream",
          "text": [
            "There are 3 apples, 3 bananas and 1 melons\n"
          ]
        }
      ],
      "source": [
        "tuple1 = ((\"apple\",1),(\"banana\",1),(\"apple\",2),(\"melon\",1),(\"pineapple\",2),(\"banana\",2))\n",
        "counts = {}\n",
        "for couple in tuple1: counts[couple[0]] = counts.get(couple[0], 0) + couple[1]\n",
        "print(f\"There are {counts[\"apple\"]} apples, {counts[\"banana\"]} bananas and {counts[\"melon\"]} melons\")"
      ]
    },
    {
      "cell_type": "markdown",
      "metadata": {
        "id": "IEt9uUG5eXJX"
      },
      "source": [
        "## 7.3 Sets in Python\n",
        "\n",
        "A **set** is an unordered, unindexed collection of elements that does not allow duplicates"
      ]
    },
    {
      "cell_type": "markdown",
      "metadata": {
        "id": "-CRsUOr0eXJY"
      },
      "source": [
        "### 7.3.1 Create a set\n",
        "In Python, sets are defined using curly braces. To create a set, simply list a series of elements separated by commas inside the braces:"
      ]
    },
    {
      "cell_type": "code",
      "execution_count": null,
      "metadata": {
        "id": "3kUF1VkNeXJY"
      },
      "outputs": [],
      "source": [
        "mySet = {\"apple\", \"banana\", \"pear\", \"kiwi\", \"melon\", \"mango\"}\n",
        "print(mySet)"
      ]
    },
    {
      "cell_type": "code",
      "execution_count": null,
      "metadata": {
        "id": "jbW-FmnnfUC6"
      },
      "outputs": [],
      "source": [
        "mySet2 = {\"apple\", \"banana\", \"pear\", \"kiwi\", \"platano\", \"melon\", \"mango\", \"melon\"}\n",
        "print(mySet2)"
      ]
    },
    {
      "cell_type": "markdown",
      "metadata": {
        "id": "SFTmOF_2fapP"
      },
      "source": [
        "Let's consider two key points:\n",
        "\n",
        "* Items are not stored in the order they were defined, as sets are unordered collections. Therefore, you cannot predict the order in which elements will appear.\n",
        "* If repeated elements are defined, only one instance will be stored in the set, since sets do not allow duplicates.\n"
      ]
    },
    {
      "cell_type": "markdown",
      "metadata": {
        "id": "40dkYTgfeXJd"
      },
      "source": [
        "You can also create a set using the `set()` constructor."
      ]
    },
    {
      "cell_type": "code",
      "execution_count": null,
      "metadata": {
        "id": "HcZ8qh4feXJd"
      },
      "outputs": [],
      "source": [
        "mySet3 =set([ \"lemon\", \"cherry\", \"kiwi\", \"mango\", \"banana\", \"pear\", \"kiwi\"])\n",
        "print(mySet3)"
      ]
    },
    {
      "cell_type": "markdown",
      "metadata": {
        "id": "oPvUAWQLeXJf"
      },
      "source": [
        "### 7.3.2 Element indexing\n",
        "\n",
        "Items in a set cannot be accessed by index, as sets are unordered and the elements do not have indexes.\n"
      ]
    },
    {
      "cell_type": "markdown",
      "metadata": {
        "id": "GbYGdaveeXJt"
      },
      "source": [
        "### 7.3.3 Check for the presence of an element\n",
        "Although elements are not indexed, we can use the `in` keyword to check if an element is present in a set:"
      ]
    },
    {
      "cell_type": "code",
      "execution_count": null,
      "metadata": {
        "id": "Pc66c5SBeXJt"
      },
      "outputs": [],
      "source": [
        "\"melon\" in mySet"
      ]
    },
    {
      "cell_type": "code",
      "execution_count": null,
      "metadata": {
        "id": "2yFFCgBBeXJv"
      },
      "outputs": [],
      "source": [
        "\"cherry\" in mySet"
      ]
    },
    {
      "cell_type": "markdown",
      "metadata": {
        "id": "bpXNOomjeXJw"
      },
      "source": [
        "### 7.3.4 Calculate the length of a set\n",
        "We can use the `len()` function to determine the number of elements in the set:\n"
      ]
    },
    {
      "cell_type": "code",
      "execution_count": null,
      "metadata": {
        "id": "5iRAeYYneXJx"
      },
      "outputs": [],
      "source": [
        "print(len(mySet))"
      ]
    },
    {
      "cell_type": "markdown",
      "metadata": {
        "id": "_Kqm74RYeXJz"
      },
      "source": [
        "### 7.3.5 Union of sets\n",
        "\n",
        "To join two or more sets in Python, you can use the `union()` method, which returns a new set containing all the elements from both sets. Note that any common elements will not be duplicated.\n",
        "\n",
        "\n"
      ]
    },
    {
      "cell_type": "code",
      "execution_count": null,
      "metadata": {
        "id": "zpNF0Ht9jNmU"
      },
      "outputs": [],
      "source": [
        "mySet = {\"apple\", \"banana\", \"pear\", \"kiwi\"}\n",
        "print(mySet)\n",
        "mySet2 = {\"pear\", \"kiwi\", \"melon\", \"mango\"}\n",
        "print(mySet2)\n",
        "\n",
        "mySetUnion = mySet.union(mySet2)\n",
        "print(mySetUnion)"
      ]
    },
    {
      "cell_type": "markdown",
      "metadata": {
        "id": "H5cSIYR9jMxi"
      },
      "source": [
        "Keep in mind that the `+` operator does not work with sets\n"
      ]
    },
    {
      "cell_type": "code",
      "execution_count": null,
      "metadata": {
        "id": "c1oSJNx3eXJz"
      },
      "outputs": [],
      "source": [
        "mySetUnion = mySet + mySet2\n",
        "print(mySetUnion)"
      ]
    },
    {
      "cell_type": "markdown",
      "metadata": {
        "id": "fqY2P9_7eXKA"
      },
      "source": [
        "### 7.3.6 Modifying the elements of a set\n",
        "\n",
        "Once a set is created, its elements cannot be modified, but new elements can be added.\n",
        "\n",
        "To add a single element to a set, you can use the `add()` method. If you want to add multiple elements, the `update()` method can be used.\n"
      ]
    },
    {
      "cell_type": "code",
      "execution_count": null,
      "metadata": {
        "id": "OjtviU6MeXKB"
      },
      "outputs": [],
      "source": [
        "mySet = {\"apple\", \"banana\", \"cherry\"}\n",
        "print(mySet)\n",
        "\n",
        "# Add new element to the set, using the method add():\n",
        "mySet.add(\"orange\")\n",
        "\n",
        "print(mySet)\n",
        "\n",
        "# Add more than one element in a set, using the method update():\n",
        "mySet.update({\"orange\", \"mango\", \"grape\"})\n",
        "\n",
        "print(mySet)"
      ]
    },
    {
      "cell_type": "markdown",
      "metadata": {
        "id": "D1Y-dNOZeXKM"
      },
      "source": [
        "If you want to remove elements from a set, we have several options:\n",
        "\n",
        "* Both the `remove()` and `discard()` methods delete the specified element.\n",
        "\n",
        "\n"
      ]
    },
    {
      "cell_type": "code",
      "execution_count": null,
      "metadata": {
        "id": "5ZKLzy4fmT4J"
      },
      "outputs": [],
      "source": [
        "# Remove an element from the set using the method remove():\n",
        "mySet.remove(\"apple\")\n",
        "print(mySet)\n",
        "\n",
        "# Remove the element \"banana\" using the method discard():\n",
        "mySet.discard(\"banana\")\n",
        "print(mySet)"
      ]
    },
    {
      "cell_type": "markdown",
      "metadata": {
        "id": "nrGy0B6wnkUA"
      },
      "source": [
        "If the specified element does not exist in the set, the `remove()` method will raise an error."
      ]
    },
    {
      "cell_type": "code",
      "execution_count": null,
      "metadata": {
        "id": "Xro4DESdnhEj"
      },
      "outputs": [],
      "source": [
        "mySet.remove(\"apple\")"
      ]
    },
    {
      "cell_type": "markdown",
      "metadata": {
        "id": "O5maEjh0inNj"
      },
      "source": [
        "On the other hand, if the specified element does not exist in the set and we use the `discard()` method, no error will be raised."
      ]
    },
    {
      "cell_type": "code",
      "execution_count": null,
      "metadata": {
        "id": "Napmaw4MmdcN"
      },
      "outputs": [],
      "source": [
        "mySet.discard(\"apple\")"
      ]
    },
    {
      "cell_type": "markdown",
      "metadata": {
        "id": "ucPC0l9NjqHS"
      },
      "source": [
        "* You can also remove items using the `pop()` method. The key difference from the previous methods is that you do not specify which element to remove; instead, it removes an arbitrary element from the set. To find out which element was removed, the `pop()` method returns the value of the removed item.\n",
        "\n"
      ]
    },
    {
      "cell_type": "code",
      "execution_count": null,
      "metadata": {
        "id": "0t_wvgfvkXGW"
      },
      "outputs": [],
      "source": [
        "print(mySet)\n",
        "removed_element = mySet.pop()\n",
        "print(mySet)\n",
        "print(removed_element)"
      ]
    },
    {
      "cell_type": "markdown",
      "metadata": {
        "id": "aexExQ4jkk_5"
      },
      "source": [
        "* With sets, we can also use the `clear()` method to empty the set, and the `del` keyword to delete the set entirely."
      ]
    },
    {
      "cell_type": "code",
      "execution_count": null,
      "metadata": {
        "id": "tfnXzAG8k8NE"
      },
      "outputs": [],
      "source": [
        "print(mySet)\n",
        "mySet.clear()\n",
        "print(mySet)"
      ]
    },
    {
      "cell_type": "code",
      "execution_count": null,
      "metadata": {
        "id": "uTjensUMeXKN"
      },
      "outputs": [],
      "source": [
        "print(mySet2)\n",
        "del mySet2\n",
        "mySet2"
      ]
    },
    {
      "cell_type": "markdown",
      "metadata": {
        "id": "g8RPifx5_s0r"
      },
      "source": [
        "## 7.4 Python dictionaries\n",
        "\n",
        "A **dictionary** is a collection of unordered, changeable, and indexed elements with no duplicate entries.\n",
        "\n",
        "Dictionaries are written using curly braces, and their key feature is that each element has a key, making it easier to index the dictionary's values. Therefore, each dictionary element consists of a key-value pair.\n",
        "\n"
      ]
    },
    {
      "cell_type": "markdown",
      "metadata": {
        "id": "4YF1j4kL_s01"
      },
      "source": [
        "### 7.4.1 Create a dictionary\n",
        "In Python, dictionaries are defined using curly braces, and each entry is represented by a key-value pair. For example:"
      ]
    },
    {
      "cell_type": "code",
      "execution_count": null,
      "metadata": {
        "id": "64liPP1L_s07"
      },
      "outputs": [],
      "source": [
        "mydict = {\n",
        "  \"name\": \"Ana\",\n",
        "  \"surname\": \"García\",\n",
        "  \"age\": 25\n",
        "}\n",
        "print(mydict)"
      ]
    },
    {
      "cell_type": "markdown",
      "metadata": {
        "id": "FmYUJgEbDIdg"
      },
      "source": [
        "Note the use of the colon operator (`:`) for assigning key-value pairs"
      ]
    },
    {
      "cell_type": "markdown",
      "metadata": {
        "id": "2xDLiZrKCveL"
      },
      "source": [
        "In abovementioned example, we've created a dictionary with three entries associated with the keys \"name\", \"surname\" and \"age\", each paired with its corresponding value.\n",
        "\n",
        "Dictionaries provide a flexible way to store information in a structured manner.\n",
        "\n",
        "To create an empty dictionary, simply define it without any elements:\n"
      ]
    },
    {
      "cell_type": "code",
      "execution_count": null,
      "metadata": {
        "id": "LXdjeVED5EMh"
      },
      "outputs": [],
      "source": [
        "myemptydict = {}\n",
        "print(myemptydict)"
      ]
    },
    {
      "cell_type": "markdown",
      "metadata": {
        "id": "9BfQ3_i4IzFR"
      },
      "source": [
        "You can also use the `dict()` constructor to create a dictionary:\n"
      ]
    },
    {
      "cell_type": "code",
      "execution_count": null,
      "metadata": {
        "id": "DnWuFkP0I9t1"
      },
      "outputs": [],
      "source": [
        "mydict2 = dict(name = \"Juan\", surname =\"Pérez\", age =30)\n",
        "print(mydict2)"
      ]
    },
    {
      "cell_type": "markdown",
      "metadata": {
        "id": "5_vnSB2BJm-C"
      },
      "source": [
        "Note that in this case, the keys are not provided as string literals, and we use the equal sign (`=`) instead of the colon (`:`) for key-value assignment."
      ]
    },
    {
      "cell_type": "markdown",
      "metadata": {
        "id": "Fp5ETF2A41Fl"
      },
      "source": [
        "### 7.4.2 Accessing keys and values\n",
        "\n",
        "Once the dictionary is created, you can access a specific value by referencing its key:"
      ]
    },
    {
      "cell_type": "code",
      "execution_count": null,
      "metadata": {
        "id": "TiX0TIjxDRDh"
      },
      "outputs": [],
      "source": [
        "mydict[\"name\"]"
      ]
    },
    {
      "cell_type": "markdown",
      "metadata": {
        "id": "_9fKkH1o4OV4"
      },
      "source": [
        "Note that to access an element, we reference the dictionary and provide the key associated with the desired value inside square brackets.\n",
        "\n",
        "Dictionaries also have a `get()` method, which returns the same result.\n"
      ]
    },
    {
      "cell_type": "code",
      "execution_count": null,
      "metadata": {
        "id": "di1UchcA4qUq"
      },
      "outputs": [],
      "source": [
        "mydict.get(\"name\")"
      ]
    },
    {
      "cell_type": "markdown",
      "metadata": {
        "id": "3Pn5lS2s7CfY"
      },
      "source": [
        "We can modify the value of a specific entry by accessing it using its key:"
      ]
    },
    {
      "cell_type": "code",
      "execution_count": null,
      "metadata": {
        "id": "x_ibvyMG7R77"
      },
      "outputs": [],
      "source": [
        "mydict[\"name\"]='Marta'\n",
        "mydict.get(\"name\")"
      ]
    },
    {
      "cell_type": "markdown",
      "metadata": {
        "id": "BO-lke09_XiN"
      },
      "source": [
        "If the key does not exist, an error will be raised."
      ]
    },
    {
      "cell_type": "code",
      "execution_count": null,
      "metadata": {
        "id": "pwmc5txS_pYa"
      },
      "outputs": [],
      "source": [
        "mydict[\"status\"]"
      ]
    },
    {
      "cell_type": "markdown",
      "metadata": {
        "id": "SuWBeaTxBCr-"
      },
      "source": [
        "You can avoid this error by using the `get()` method."
      ]
    },
    {
      "cell_type": "code",
      "execution_count": null,
      "metadata": {
        "id": "GnRtjrV5AHR5"
      },
      "outputs": [],
      "source": [
        "mydict.get(\"status\") is None"
      ]
    },
    {
      "cell_type": "markdown",
      "metadata": {
        "id": "3i6oV7A16KVF"
      },
      "source": [
        "If you need to access all key-value pairs, you can use the `items()` method."
      ]
    },
    {
      "cell_type": "code",
      "execution_count": null,
      "metadata": {
        "id": "7GPtjxrg6wN5"
      },
      "outputs": [],
      "source": [
        "mydict.items()"
      ]
    },
    {
      "cell_type": "markdown",
      "metadata": {
        "id": "lU0inZz-6jvR"
      },
      "source": [
        "Note that this method returns a list of all key-value pairs, with each pair represented as a tuple."
      ]
    },
    {
      "cell_type": "markdown",
      "metadata": {
        "id": "XqU_xOys7Z3F"
      },
      "source": [
        "You can also access all keys or all values independently using the `keys()` and `values()` methods, respectively."
      ]
    },
    {
      "cell_type": "code",
      "execution_count": null,
      "metadata": {
        "id": "nBf_IZPn_s1M"
      },
      "outputs": [],
      "source": [
        "mydict.keys()"
      ]
    },
    {
      "cell_type": "code",
      "execution_count": null,
      "metadata": {
        "id": "F7Q4fFnr7-UP"
      },
      "outputs": [],
      "source": [
        "mydict.values()"
      ]
    },
    {
      "cell_type": "markdown",
      "metadata": {
        "id": "hJur-w4k8a6V"
      },
      "source": [
        "You can iterate through the elements of a dictionary using a `for` loop. Keep in mind that the loop will return the keys of the dictionary by default:\n"
      ]
    },
    {
      "cell_type": "code",
      "execution_count": null,
      "metadata": {
        "id": "h-nIQn-H-IPt"
      },
      "outputs": [],
      "source": [
        "for key in mydict:\n",
        "  print(key)"
      ]
    },
    {
      "cell_type": "code",
      "execution_count": null,
      "metadata": {
        "id": "WF9Ox1QQ-iNH"
      },
      "outputs": [],
      "source": [
        "# We can use these keys to return the values\n",
        "for key in mydict:\n",
        "  print(mydict[key])"
      ]
    },
    {
      "cell_type": "markdown",
      "metadata": {
        "id": "mxysI-oD-Ooa"
      },
      "source": [
        "However, we can use the `items()` or `values()` methods to iterate over key-value pairs or just the values.\n"
      ]
    },
    {
      "cell_type": "code",
      "execution_count": null,
      "metadata": {
        "id": "2Ii6_KrQ-wsg"
      },
      "outputs": [],
      "source": [
        "for value in mydict.values():\n",
        "  print(value)\n"
      ]
    },
    {
      "cell_type": "code",
      "execution_count": null,
      "metadata": {
        "id": "r66PmYSu-2Gh"
      },
      "outputs": [],
      "source": [
        "for key, value in mydict.items():\n",
        "  print(key, value)"
      ]
    },
    {
      "cell_type": "markdown",
      "metadata": {
        "id": "WLwOiVWRCIfb"
      },
      "source": [
        "### 7.4.3 Adding and removing elements\n",
        "\n",
        "To add a new key-value pair to a dictionary, simply use a new key and assign a value to it:\n",
        "\n"
      ]
    },
    {
      "cell_type": "code",
      "execution_count": null,
      "metadata": {
        "id": "nj8t38vACh5S"
      },
      "outputs": [],
      "source": [
        "mydict[\"status\"] = 'single'\n",
        "print(mydict)"
      ]
    },
    {
      "cell_type": "markdown",
      "metadata": {
        "id": "MqrGr21IGzmc"
      },
      "source": [
        "Alternatively, you can use the `update()` method:"
      ]
    },
    {
      "cell_type": "code",
      "execution_count": null,
      "metadata": {
        "id": "MQVIa8ruG7M2"
      },
      "outputs": [],
      "source": [
        "mydict.update({\"job\":'teacher'})\n",
        "print(mydict)"
      ]
    },
    {
      "cell_type": "markdown",
      "metadata": {
        "id": "agoqGPCrHnSb"
      },
      "source": [
        "Generally, this method updates the dictionary with elements from another dictionary. If the other dictionary contains new keys, they are added as new entries; otherwise, the corresponding values are updated. For example:"
      ]
    },
    {
      "cell_type": "code",
      "execution_count": null,
      "metadata": {
        "id": "GWCId2cQIKdX"
      },
      "outputs": [],
      "source": [
        "mydict2 = {1: \"one\", 2: \"three\"}\n",
        "dictnew = {2: \"two\", 3: \"three\"}\n",
        "\n",
        "mydict2.update(dictnew)\n",
        "print(mydict2)"
      ]
    },
    {
      "cell_type": "markdown",
      "metadata": {
        "id": "6Tscsp-ACjSo"
      },
      "source": [
        "To remove elements from a dictionary, we can use the following methods:\n",
        "\n",
        "* `.pop()` or `del` (the latter is a Python keyword): Both remove the item associated with a given key.\n",
        "* `.popitem()`: Removes the last inserted element.\n",
        "\n"
      ]
    },
    {
      "cell_type": "code",
      "execution_count": null,
      "metadata": {
        "id": "3PEC4N20Ci6d"
      },
      "outputs": [],
      "source": [
        "mydict.popitem()\n",
        "print(mydict)"
      ]
    },
    {
      "cell_type": "code",
      "execution_count": null,
      "metadata": {
        "id": "_N6BIbtYFFjn"
      },
      "outputs": [],
      "source": [
        "mydict.pop(\"age\")\n",
        "print(mydict)"
      ]
    },
    {
      "cell_type": "code",
      "execution_count": null,
      "metadata": {
        "id": "9owdzBQBFdOJ"
      },
      "outputs": [],
      "source": [
        "del mydict[\"name\"]\n",
        "print(mydict)"
      ]
    },
    {
      "cell_type": "markdown",
      "metadata": {
        "id": "PiRcwStoFlnr"
      },
      "source": [
        "We can also use `del` to remove the entire dictionary."
      ]
    },
    {
      "cell_type": "code",
      "execution_count": null,
      "metadata": {
        "id": "AXOATvhxFriK"
      },
      "outputs": [],
      "source": [
        "del mydict\n",
        "print(mydict)"
      ]
    },
    {
      "cell_type": "markdown",
      "metadata": {
        "id": "fvUeh81FF2oV"
      },
      "source": [
        "If we want to remove all elements from the dictionary without deleting the variable itself, we can use the `clear()` method:"
      ]
    },
    {
      "cell_type": "code",
      "execution_count": null,
      "metadata": {
        "id": "BkmfhdwBF29a"
      },
      "outputs": [],
      "source": [
        "mydict = {\n",
        "  \"name\": \"Ana\",\n",
        "  \"surname\": \"García\",\n",
        "  \"age\": 25\n",
        "}\n",
        "print(mydict)"
      ]
    },
    {
      "cell_type": "code",
      "execution_count": null,
      "metadata": {
        "id": "8mXMSUCrGU4_"
      },
      "outputs": [],
      "source": [
        "mydict.clear()\n",
        "print(mydict)"
      ]
    },
    {
      "cell_type": "markdown",
      "metadata": {
        "id": "sB70VS1LRtyU"
      },
      "source": [
        "**Exercises**\n",
        "\n",
        "Let's create a dictionary with your classmates' information, using their names as keys and their degree programs as values. For this exercise, it's enough to include data for $5$ or $6$ classmates (you can use the chat to share this information)."
      ]
    },
    {
      "cell_type": "code",
      "execution_count": 91,
      "metadata": {
        "id": "c0z0YEZcSnFJ"
      },
      "outputs": [
        {
          "name": "stdout",
          "output_type": "stream",
          "text": [
            "{'Maria': 'Telecomunication Eng', 'Pablo': 'Biomedical Eng', 'Marta': 'Biomedical Eng', 'Ana': 'Computer Science', 'Antonio': 'Telecomunication Eng'}\n"
          ]
        }
      ],
      "source": [
        "classmates={'Maria':'Telecomunication Eng', 'Pablo': 'Biomedical Eng', 'Marta':'Biomedical Eng', 'Ana': 'Computer Science', 'Antonio' :'Telecomunication Eng'}\n",
        "print(classmates)"
      ]
    },
    {
      "cell_type": "markdown",
      "metadata": {
        "id": "Mkjn_JLyT72I"
      },
      "source": [
        "Now, solve the following exercises/questions:\n",
        "\n",
        "* Which degree did Ana study?\n",
        "* Update your dictionary with the information of another classmate.\n",
        "* List the names of all the classmates in your dictionary.\n",
        "* How many people studied Biomedical Engineering?\"\n"
      ]
    },
    {
      "cell_type": "code",
      "execution_count": 93,
      "metadata": {
        "id": "zBbxp2MaT7dj"
      },
      "outputs": [
        {
          "name": "stdout",
          "output_type": "stream",
          "text": [
            "Ana is studying Computer Science\n",
            "Names: Maria, Pablo, Marta, Ana, Antonio, Alonso\n",
            "Students of Biomed Eng.: 2\n"
          ]
        }
      ],
      "source": [
        "print(f\"Ana is studying {classmates[\"Ana\"]}\")\n",
        "classmates[\"Alonso\"] = \"Telecommunication Eng\"\n",
        "print(f\"Names: {', '.join(classmates.keys())}\")\n",
        "print(f\"Students of Biomed Eng.: {sum(map(lambda x: 1 if x == 'Biomedical Eng' else 0, classmates.values()))}\")"
      ]
    },
    {
      "cell_type": "markdown",
      "metadata": {
        "id": "qoVIamCeMYoR"
      },
      "source": [
        "# 8.&nbsp;User defined functions\n",
        "\n",
        "A function is a block of organized, reusable code designed to perform a single, specific action. Functions enhance modularity and promote code reuse.\n",
        "\n",
        "As we've seen, Python provides many built-in functions like `print()` and `len()`, but you can also create your own functions!\n",
        "\n",
        "### Defining a function:\n",
        "\n",
        "-  Function blocks start with the keyword `def`, followed by the function name and parentheses `( )`.\n",
        "\n",
        "-  Any input parameters or arguments should be placed inside the parentheses. You can also define default parameters within these parentheses.\n",
        "\n",
        "- The code block within every function starts with a colon (`:`) and is indented.\n",
        "\n",
        "-  The first statement of a function can be an optional documentation string, often called a docstring. Docstrings typically begin and end with triple quotes (`\"\"\".....\"\"\"`).\n",
        "\n",
        "- The statement `return [expression]` exits a function, optionally passing an expression back to the caller. A return statement with no arguments is equivalent to return `None`.\n"
      ]
    },
    {
      "cell_type": "code",
      "execution_count": null,
      "metadata": {
        "id": "dZ1OUroIM0At"
      },
      "outputs": [],
      "source": [
        "# Example of a function:\n",
        "\n",
        "def add_five(a):\n",
        "  \"\"\"This function adds the number five to its input argument.\"\"\"\n",
        "  return a + 5\n",
        "\n",
        "# Let's try it out!\n",
        "x = int(input('Please enter an integer: '))\n",
        "print('Our add_five function is super effective at adding fives:')\n",
        "print(x, '+ 5 =', add_five(x))"
      ]
    },
    {
      "cell_type": "markdown",
      "metadata": {
        "id": "3dmjEo0hM6G0"
      },
      "source": [
        "Now give it a try! Write a function called `my_factorial` that computes the factorial of a given number. If you're feeling adventurous, you can try implementing it recursively, as Python fully supports recursion. Remember that the factorial of $0$ is $1$, and the factorial of a negative number is undefined."
      ]
    },
    {
      "cell_type": "markdown",
      "metadata": {
        "id": "I8BLX5HcbYu1"
      },
      "source": [
        "**Solution**"
      ]
    },
    {
      "cell_type": "code",
      "execution_count": 159,
      "metadata": {
        "id": "LZJGH5kTM5JH"
      },
      "outputs": [],
      "source": [
        "def my_factorial(x):\n",
        "    if (x<0): raise ValueError(\"my_factorial() is not defined for negative input values.\")\n",
        "    return x*my_factorial(x-1) if x >= 1 else 1"
      ]
    },
    {
      "cell_type": "code",
      "execution_count": 160,
      "metadata": {},
      "outputs": [],
      "source": [
        "def my_factorial_test():\n",
        "    assert(my_factorial(0) == math.factorial(0))\n",
        "    assert(my_factorial(1) == math.factorial(1))\n",
        "    assert(my_factorial(3) == math.factorial(3))\n",
        "\n",
        "my_factorial_test()"
      ]
    },
    {
      "cell_type": "markdown",
      "metadata": {
        "id": "XrYRmO37WdgQ"
      },
      "source": [
        "Note that you can verify your result by using the `factorial` function included in the `math` library.\n"
      ]
    }
  ],
  "metadata": {
    "colab": {
      "provenance": []
    },
    "kernelspec": {
      "display_name": "Python 3 (ipykernel)",
      "language": "python",
      "name": "python3"
    }
  },
  "nbformat": 4,
  "nbformat_minor": 0
}
